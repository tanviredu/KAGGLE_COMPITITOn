{
 "cells": [
  {
   "cell_type": "code",
   "execution_count": 1,
   "metadata": {},
   "outputs": [],
   "source": [
    "##first import the data"
   ]
  },
  {
   "cell_type": "code",
   "execution_count": 2,
   "metadata": {},
   "outputs": [],
   "source": [
    "train <- read.csv('data/train.csv')"
   ]
  },
  {
   "cell_type": "code",
   "execution_count": 3,
   "metadata": {},
   "outputs": [],
   "source": [
    "test <- read.csv('data/test.csv')"
   ]
  },
  {
   "cell_type": "code",
   "execution_count": 4,
   "metadata": {},
   "outputs": [
    {
     "data": {
      "text/html": [
       "<table>\n",
       "<thead><tr><th scope=col>Id</th><th scope=col>MSSubClass</th><th scope=col>MSZoning</th><th scope=col>LotFrontage</th><th scope=col>LotArea</th><th scope=col>Street</th><th scope=col>Alley</th><th scope=col>LotShape</th><th scope=col>LandContour</th><th scope=col>Utilities</th><th scope=col>⋯</th><th scope=col>PoolArea</th><th scope=col>PoolQC</th><th scope=col>Fence</th><th scope=col>MiscFeature</th><th scope=col>MiscVal</th><th scope=col>MoSold</th><th scope=col>YrSold</th><th scope=col>SaleType</th><th scope=col>SaleCondition</th><th scope=col>SalePrice</th></tr></thead>\n",
       "<tbody>\n",
       "\t<tr><td>1      </td><td>60     </td><td>RL     </td><td>65     </td><td> 8450  </td><td>Pave   </td><td>NA     </td><td>Reg    </td><td>Lvl    </td><td>AllPub </td><td>⋯      </td><td>0      </td><td>NA     </td><td>NA     </td><td>NA     </td><td>  0    </td><td> 2     </td><td>2008   </td><td>WD     </td><td>Normal </td><td>208500 </td></tr>\n",
       "\t<tr><td>2      </td><td>20     </td><td>RL     </td><td>80     </td><td> 9600  </td><td>Pave   </td><td>NA     </td><td>Reg    </td><td>Lvl    </td><td>AllPub </td><td>⋯      </td><td>0      </td><td>NA     </td><td>NA     </td><td>NA     </td><td>  0    </td><td> 5     </td><td>2007   </td><td>WD     </td><td>Normal </td><td>181500 </td></tr>\n",
       "\t<tr><td>3      </td><td>60     </td><td>RL     </td><td>68     </td><td>11250  </td><td>Pave   </td><td>NA     </td><td>IR1    </td><td>Lvl    </td><td>AllPub </td><td>⋯      </td><td>0      </td><td>NA     </td><td>NA     </td><td>NA     </td><td>  0    </td><td> 9     </td><td>2008   </td><td>WD     </td><td>Normal </td><td>223500 </td></tr>\n",
       "\t<tr><td>4      </td><td>70     </td><td>RL     </td><td>60     </td><td> 9550  </td><td>Pave   </td><td>NA     </td><td>IR1    </td><td>Lvl    </td><td>AllPub </td><td>⋯      </td><td>0      </td><td>NA     </td><td>NA     </td><td>NA     </td><td>  0    </td><td> 2     </td><td>2006   </td><td>WD     </td><td>Abnorml</td><td>140000 </td></tr>\n",
       "\t<tr><td>5      </td><td>60     </td><td>RL     </td><td>84     </td><td>14260  </td><td>Pave   </td><td>NA     </td><td>IR1    </td><td>Lvl    </td><td>AllPub </td><td>⋯      </td><td>0      </td><td>NA     </td><td>NA     </td><td>NA     </td><td>  0    </td><td>12     </td><td>2008   </td><td>WD     </td><td>Normal </td><td>250000 </td></tr>\n",
       "\t<tr><td>6      </td><td>50     </td><td>RL     </td><td>85     </td><td>14115  </td><td>Pave   </td><td>NA     </td><td>IR1    </td><td>Lvl    </td><td>AllPub </td><td>⋯      </td><td>0      </td><td>NA     </td><td>MnPrv  </td><td>Shed   </td><td>700    </td><td>10     </td><td>2009   </td><td>WD     </td><td>Normal </td><td>143000 </td></tr>\n",
       "</tbody>\n",
       "</table>\n"
      ],
      "text/latex": [
       "\\begin{tabular}{r|lllllllllllllllllllllllllllllllllllllllllllllllllllllllllllllllllllllllllllllllll}\n",
       " Id & MSSubClass & MSZoning & LotFrontage & LotArea & Street & Alley & LotShape & LandContour & Utilities & ⋯ & PoolArea & PoolQC & Fence & MiscFeature & MiscVal & MoSold & YrSold & SaleType & SaleCondition & SalePrice\\\\\n",
       "\\hline\n",
       "\t 1       & 60      & RL      & 65      &  8450   & Pave    & NA      & Reg     & Lvl     & AllPub  & ⋯       & 0       & NA      & NA      & NA      &   0     &  2      & 2008    & WD      & Normal  & 208500 \\\\\n",
       "\t 2       & 20      & RL      & 80      &  9600   & Pave    & NA      & Reg     & Lvl     & AllPub  & ⋯       & 0       & NA      & NA      & NA      &   0     &  5      & 2007    & WD      & Normal  & 181500 \\\\\n",
       "\t 3       & 60      & RL      & 68      & 11250   & Pave    & NA      & IR1     & Lvl     & AllPub  & ⋯       & 0       & NA      & NA      & NA      &   0     &  9      & 2008    & WD      & Normal  & 223500 \\\\\n",
       "\t 4       & 70      & RL      & 60      &  9550   & Pave    & NA      & IR1     & Lvl     & AllPub  & ⋯       & 0       & NA      & NA      & NA      &   0     &  2      & 2006    & WD      & Abnorml & 140000 \\\\\n",
       "\t 5       & 60      & RL      & 84      & 14260   & Pave    & NA      & IR1     & Lvl     & AllPub  & ⋯       & 0       & NA      & NA      & NA      &   0     & 12      & 2008    & WD      & Normal  & 250000 \\\\\n",
       "\t 6       & 50      & RL      & 85      & 14115   & Pave    & NA      & IR1     & Lvl     & AllPub  & ⋯       & 0       & NA      & MnPrv   & Shed    & 700     & 10      & 2009    & WD      & Normal  & 143000 \\\\\n",
       "\\end{tabular}\n"
      ],
      "text/markdown": [
       "\n",
       "Id | MSSubClass | MSZoning | LotFrontage | LotArea | Street | Alley | LotShape | LandContour | Utilities | ⋯ | PoolArea | PoolQC | Fence | MiscFeature | MiscVal | MoSold | YrSold | SaleType | SaleCondition | SalePrice | \n",
       "|---|---|---|---|---|---|\n",
       "| 1       | 60      | RL      | 65      |  8450   | Pave    | NA      | Reg     | Lvl     | AllPub  | ⋯       | 0       | NA      | NA      | NA      |   0     |  2      | 2008    | WD      | Normal  | 208500  | \n",
       "| 2       | 20      | RL      | 80      |  9600   | Pave    | NA      | Reg     | Lvl     | AllPub  | ⋯       | 0       | NA      | NA      | NA      |   0     |  5      | 2007    | WD      | Normal  | 181500  | \n",
       "| 3       | 60      | RL      | 68      | 11250   | Pave    | NA      | IR1     | Lvl     | AllPub  | ⋯       | 0       | NA      | NA      | NA      |   0     |  9      | 2008    | WD      | Normal  | 223500  | \n",
       "| 4       | 70      | RL      | 60      |  9550   | Pave    | NA      | IR1     | Lvl     | AllPub  | ⋯       | 0       | NA      | NA      | NA      |   0     |  2      | 2006    | WD      | Abnorml | 140000  | \n",
       "| 5       | 60      | RL      | 84      | 14260   | Pave    | NA      | IR1     | Lvl     | AllPub  | ⋯       | 0       | NA      | NA      | NA      |   0     | 12      | 2008    | WD      | Normal  | 250000  | \n",
       "| 6       | 50      | RL      | 85      | 14115   | Pave    | NA      | IR1     | Lvl     | AllPub  | ⋯       | 0       | NA      | MnPrv   | Shed    | 700     | 10      | 2009    | WD      | Normal  | 143000  | \n",
       "\n",
       "\n"
      ],
      "text/plain": [
       "  Id MSSubClass MSZoning LotFrontage LotArea Street Alley LotShape LandContour\n",
       "1 1  60         RL       65           8450   Pave   NA    Reg      Lvl        \n",
       "2 2  20         RL       80           9600   Pave   NA    Reg      Lvl        \n",
       "3 3  60         RL       68          11250   Pave   NA    IR1      Lvl        \n",
       "4 4  70         RL       60           9550   Pave   NA    IR1      Lvl        \n",
       "5 5  60         RL       84          14260   Pave   NA    IR1      Lvl        \n",
       "6 6  50         RL       85          14115   Pave   NA    IR1      Lvl        \n",
       "  Utilities ⋯ PoolArea PoolQC Fence MiscFeature MiscVal MoSold YrSold SaleType\n",
       "1 AllPub    ⋯ 0        NA     NA    NA            0      2     2008   WD      \n",
       "2 AllPub    ⋯ 0        NA     NA    NA            0      5     2007   WD      \n",
       "3 AllPub    ⋯ 0        NA     NA    NA            0      9     2008   WD      \n",
       "4 AllPub    ⋯ 0        NA     NA    NA            0      2     2006   WD      \n",
       "5 AllPub    ⋯ 0        NA     NA    NA            0     12     2008   WD      \n",
       "6 AllPub    ⋯ 0        NA     MnPrv Shed        700     10     2009   WD      \n",
       "  SaleCondition SalePrice\n",
       "1 Normal        208500   \n",
       "2 Normal        181500   \n",
       "3 Normal        223500   \n",
       "4 Abnorml       140000   \n",
       "5 Normal        250000   \n",
       "6 Normal        143000   "
      ]
     },
     "metadata": {},
     "output_type": "display_data"
    }
   ],
   "source": [
    "head(train)"
   ]
  },
  {
   "cell_type": "code",
   "execution_count": 5,
   "metadata": {},
   "outputs": [
    {
     "data": {
      "text/html": [
       "<table>\n",
       "<thead><tr><th scope=col>Id</th><th scope=col>MSSubClass</th><th scope=col>MSZoning</th><th scope=col>LotFrontage</th><th scope=col>LotArea</th><th scope=col>Street</th><th scope=col>Alley</th><th scope=col>LotShape</th><th scope=col>LandContour</th><th scope=col>Utilities</th><th scope=col>⋯</th><th scope=col>ScreenPorch</th><th scope=col>PoolArea</th><th scope=col>PoolQC</th><th scope=col>Fence</th><th scope=col>MiscFeature</th><th scope=col>MiscVal</th><th scope=col>MoSold</th><th scope=col>YrSold</th><th scope=col>SaleType</th><th scope=col>SaleCondition</th></tr></thead>\n",
       "<tbody>\n",
       "\t<tr><td>1461  </td><td> 20   </td><td>RH    </td><td>80    </td><td>11622 </td><td>Pave  </td><td>NA    </td><td>Reg   </td><td>Lvl   </td><td>AllPub</td><td>⋯     </td><td>120   </td><td>0     </td><td>NA    </td><td>MnPrv </td><td>NA    </td><td>    0 </td><td>6     </td><td>2010  </td><td>WD    </td><td>Normal</td></tr>\n",
       "\t<tr><td>1462  </td><td> 20   </td><td>RL    </td><td>81    </td><td>14267 </td><td>Pave  </td><td>NA    </td><td>IR1   </td><td>Lvl   </td><td>AllPub</td><td>⋯     </td><td>  0   </td><td>0     </td><td>NA    </td><td>NA    </td><td>Gar2  </td><td>12500 </td><td>6     </td><td>2010  </td><td>WD    </td><td>Normal</td></tr>\n",
       "\t<tr><td>1463  </td><td> 60   </td><td>RL    </td><td>74    </td><td>13830 </td><td>Pave  </td><td>NA    </td><td>IR1   </td><td>Lvl   </td><td>AllPub</td><td>⋯     </td><td>  0   </td><td>0     </td><td>NA    </td><td>MnPrv </td><td>NA    </td><td>    0 </td><td>3     </td><td>2010  </td><td>WD    </td><td>Normal</td></tr>\n",
       "\t<tr><td>1464  </td><td> 60   </td><td>RL    </td><td>78    </td><td> 9978 </td><td>Pave  </td><td>NA    </td><td>IR1   </td><td>Lvl   </td><td>AllPub</td><td>⋯     </td><td>  0   </td><td>0     </td><td>NA    </td><td>NA    </td><td>NA    </td><td>    0 </td><td>6     </td><td>2010  </td><td>WD    </td><td>Normal</td></tr>\n",
       "\t<tr><td>1465  </td><td>120   </td><td>RL    </td><td>43    </td><td> 5005 </td><td>Pave  </td><td>NA    </td><td>IR1   </td><td>HLS   </td><td>AllPub</td><td>⋯     </td><td>144   </td><td>0     </td><td>NA    </td><td>NA    </td><td>NA    </td><td>    0 </td><td>1     </td><td>2010  </td><td>WD    </td><td>Normal</td></tr>\n",
       "\t<tr><td>1466  </td><td> 60   </td><td>RL    </td><td>75    </td><td>10000 </td><td>Pave  </td><td>NA    </td><td>IR1   </td><td>Lvl   </td><td>AllPub</td><td>⋯     </td><td>  0   </td><td>0     </td><td>NA    </td><td>NA    </td><td>NA    </td><td>    0 </td><td>4     </td><td>2010  </td><td>WD    </td><td>Normal</td></tr>\n",
       "</tbody>\n",
       "</table>\n"
      ],
      "text/latex": [
       "\\begin{tabular}{r|llllllllllllllllllllllllllllllllllllllllllllllllllllllllllllllllllllllllllllllll}\n",
       " Id & MSSubClass & MSZoning & LotFrontage & LotArea & Street & Alley & LotShape & LandContour & Utilities & ⋯ & ScreenPorch & PoolArea & PoolQC & Fence & MiscFeature & MiscVal & MoSold & YrSold & SaleType & SaleCondition\\\\\n",
       "\\hline\n",
       "\t 1461   &  20    & RH     & 80     & 11622  & Pave   & NA     & Reg    & Lvl    & AllPub & ⋯      & 120    & 0      & NA     & MnPrv  & NA     &     0  & 6      & 2010   & WD     & Normal\\\\\n",
       "\t 1462   &  20    & RL     & 81     & 14267  & Pave   & NA     & IR1    & Lvl    & AllPub & ⋯      &   0    & 0      & NA     & NA     & Gar2   & 12500  & 6      & 2010   & WD     & Normal\\\\\n",
       "\t 1463   &  60    & RL     & 74     & 13830  & Pave   & NA     & IR1    & Lvl    & AllPub & ⋯      &   0    & 0      & NA     & MnPrv  & NA     &     0  & 3      & 2010   & WD     & Normal\\\\\n",
       "\t 1464   &  60    & RL     & 78     &  9978  & Pave   & NA     & IR1    & Lvl    & AllPub & ⋯      &   0    & 0      & NA     & NA     & NA     &     0  & 6      & 2010   & WD     & Normal\\\\\n",
       "\t 1465   & 120    & RL     & 43     &  5005  & Pave   & NA     & IR1    & HLS    & AllPub & ⋯      & 144    & 0      & NA     & NA     & NA     &     0  & 1      & 2010   & WD     & Normal\\\\\n",
       "\t 1466   &  60    & RL     & 75     & 10000  & Pave   & NA     & IR1    & Lvl    & AllPub & ⋯      &   0    & 0      & NA     & NA     & NA     &     0  & 4      & 2010   & WD     & Normal\\\\\n",
       "\\end{tabular}\n"
      ],
      "text/markdown": [
       "\n",
       "Id | MSSubClass | MSZoning | LotFrontage | LotArea | Street | Alley | LotShape | LandContour | Utilities | ⋯ | ScreenPorch | PoolArea | PoolQC | Fence | MiscFeature | MiscVal | MoSold | YrSold | SaleType | SaleCondition | \n",
       "|---|---|---|---|---|---|\n",
       "| 1461   |  20    | RH     | 80     | 11622  | Pave   | NA     | Reg    | Lvl    | AllPub | ⋯      | 120    | 0      | NA     | MnPrv  | NA     |     0  | 6      | 2010   | WD     | Normal | \n",
       "| 1462   |  20    | RL     | 81     | 14267  | Pave   | NA     | IR1    | Lvl    | AllPub | ⋯      |   0    | 0      | NA     | NA     | Gar2   | 12500  | 6      | 2010   | WD     | Normal | \n",
       "| 1463   |  60    | RL     | 74     | 13830  | Pave   | NA     | IR1    | Lvl    | AllPub | ⋯      |   0    | 0      | NA     | MnPrv  | NA     |     0  | 3      | 2010   | WD     | Normal | \n",
       "| 1464   |  60    | RL     | 78     |  9978  | Pave   | NA     | IR1    | Lvl    | AllPub | ⋯      |   0    | 0      | NA     | NA     | NA     |     0  | 6      | 2010   | WD     | Normal | \n",
       "| 1465   | 120    | RL     | 43     |  5005  | Pave   | NA     | IR1    | HLS    | AllPub | ⋯      | 144    | 0      | NA     | NA     | NA     |     0  | 1      | 2010   | WD     | Normal | \n",
       "| 1466   |  60    | RL     | 75     | 10000  | Pave   | NA     | IR1    | Lvl    | AllPub | ⋯      |   0    | 0      | NA     | NA     | NA     |     0  | 4      | 2010   | WD     | Normal | \n",
       "\n",
       "\n"
      ],
      "text/plain": [
       "  Id   MSSubClass MSZoning LotFrontage LotArea Street Alley LotShape\n",
       "1 1461  20        RH       80          11622   Pave   NA    Reg     \n",
       "2 1462  20        RL       81          14267   Pave   NA    IR1     \n",
       "3 1463  60        RL       74          13830   Pave   NA    IR1     \n",
       "4 1464  60        RL       78           9978   Pave   NA    IR1     \n",
       "5 1465 120        RL       43           5005   Pave   NA    IR1     \n",
       "6 1466  60        RL       75          10000   Pave   NA    IR1     \n",
       "  LandContour Utilities ⋯ ScreenPorch PoolArea PoolQC Fence MiscFeature MiscVal\n",
       "1 Lvl         AllPub    ⋯ 120         0        NA     MnPrv NA              0  \n",
       "2 Lvl         AllPub    ⋯   0         0        NA     NA    Gar2        12500  \n",
       "3 Lvl         AllPub    ⋯   0         0        NA     MnPrv NA              0  \n",
       "4 Lvl         AllPub    ⋯   0         0        NA     NA    NA              0  \n",
       "5 HLS         AllPub    ⋯ 144         0        NA     NA    NA              0  \n",
       "6 Lvl         AllPub    ⋯   0         0        NA     NA    NA              0  \n",
       "  MoSold YrSold SaleType SaleCondition\n",
       "1 6      2010   WD       Normal       \n",
       "2 6      2010   WD       Normal       \n",
       "3 3      2010   WD       Normal       \n",
       "4 6      2010   WD       Normal       \n",
       "5 1      2010   WD       Normal       \n",
       "6 4      2010   WD       Normal       "
      ]
     },
     "metadata": {},
     "output_type": "display_data"
    }
   ],
   "source": [
    "head(test)"
   ]
  },
  {
   "cell_type": "code",
   "execution_count": 6,
   "metadata": {},
   "outputs": [],
   "source": [
    "train$IsTrainset <-TRUE\n",
    "test$IsTrainset <-FALSE\n",
    "test$SalePrice <-NA"
   ]
  },
  {
   "cell_type": "code",
   "execution_count": 7,
   "metadata": {},
   "outputs": [
    {
     "data": {
      "text/plain": [
       "\n",
       " FALSE   TRUE \n",
       "112755   6965 "
      ]
     },
     "metadata": {},
     "output_type": "display_data"
    }
   ],
   "source": [
    "table(is.na(train))"
   ]
  },
  {
   "cell_type": "code",
   "execution_count": 8,
   "metadata": {},
   "outputs": [
    {
     "data": {
      "text/plain": [
       "\n",
       " FALSE   TRUE \n",
       "111179   8459 "
      ]
     },
     "metadata": {},
     "output_type": "display_data"
    }
   ],
   "source": [
    "table(is.na(test))"
   ]
  },
  {
   "cell_type": "code",
   "execution_count": 9,
   "metadata": {},
   "outputs": [],
   "source": [
    "## combine the data set before for removing the null or absense value\n",
    "combined_set <- rbind(train,test)"
   ]
  },
  {
   "cell_type": "code",
   "execution_count": 10,
   "metadata": {},
   "outputs": [
    {
     "data": {
      "text/plain": [
       "\n",
       "FALSE  TRUE \n",
       " 1460  1459 "
      ]
     },
     "metadata": {},
     "output_type": "display_data"
    }
   ],
   "source": [
    "table(is.na(combined_set$SalePrice))"
   ]
  },
  {
   "cell_type": "code",
   "execution_count": 11,
   "metadata": {},
   "outputs": [
    {
     "data": {
      "text/html": [
       "<table>\n",
       "<thead><tr><th scope=col>Id</th><th scope=col>MSSubClass</th><th scope=col>MSZoning</th><th scope=col>LotFrontage</th><th scope=col>LotArea</th><th scope=col>Street</th><th scope=col>Alley</th><th scope=col>LotShape</th><th scope=col>LandContour</th><th scope=col>Utilities</th><th scope=col>⋯</th><th scope=col>PoolQC</th><th scope=col>Fence</th><th scope=col>MiscFeature</th><th scope=col>MiscVal</th><th scope=col>MoSold</th><th scope=col>YrSold</th><th scope=col>SaleType</th><th scope=col>SaleCondition</th><th scope=col>SalePrice</th><th scope=col>IsTrainset</th></tr></thead>\n",
       "<tbody>\n",
       "\t<tr><td>1      </td><td>60     </td><td>RL     </td><td>65     </td><td> 8450  </td><td>Pave   </td><td>NA     </td><td>Reg    </td><td>Lvl    </td><td>AllPub </td><td>⋯      </td><td>NA     </td><td>NA     </td><td>NA     </td><td>  0    </td><td> 2     </td><td>2008   </td><td>WD     </td><td>Normal </td><td>208500 </td><td>TRUE   </td></tr>\n",
       "\t<tr><td>2      </td><td>20     </td><td>RL     </td><td>80     </td><td> 9600  </td><td>Pave   </td><td>NA     </td><td>Reg    </td><td>Lvl    </td><td>AllPub </td><td>⋯      </td><td>NA     </td><td>NA     </td><td>NA     </td><td>  0    </td><td> 5     </td><td>2007   </td><td>WD     </td><td>Normal </td><td>181500 </td><td>TRUE   </td></tr>\n",
       "\t<tr><td>3      </td><td>60     </td><td>RL     </td><td>68     </td><td>11250  </td><td>Pave   </td><td>NA     </td><td>IR1    </td><td>Lvl    </td><td>AllPub </td><td>⋯      </td><td>NA     </td><td>NA     </td><td>NA     </td><td>  0    </td><td> 9     </td><td>2008   </td><td>WD     </td><td>Normal </td><td>223500 </td><td>TRUE   </td></tr>\n",
       "\t<tr><td>4      </td><td>70     </td><td>RL     </td><td>60     </td><td> 9550  </td><td>Pave   </td><td>NA     </td><td>IR1    </td><td>Lvl    </td><td>AllPub </td><td>⋯      </td><td>NA     </td><td>NA     </td><td>NA     </td><td>  0    </td><td> 2     </td><td>2006   </td><td>WD     </td><td>Abnorml</td><td>140000 </td><td>TRUE   </td></tr>\n",
       "\t<tr><td>5      </td><td>60     </td><td>RL     </td><td>84     </td><td>14260  </td><td>Pave   </td><td>NA     </td><td>IR1    </td><td>Lvl    </td><td>AllPub </td><td>⋯      </td><td>NA     </td><td>NA     </td><td>NA     </td><td>  0    </td><td>12     </td><td>2008   </td><td>WD     </td><td>Normal </td><td>250000 </td><td>TRUE   </td></tr>\n",
       "\t<tr><td>6      </td><td>50     </td><td>RL     </td><td>85     </td><td>14115  </td><td>Pave   </td><td>NA     </td><td>IR1    </td><td>Lvl    </td><td>AllPub </td><td>⋯      </td><td>NA     </td><td>MnPrv  </td><td>Shed   </td><td>700    </td><td>10     </td><td>2009   </td><td>WD     </td><td>Normal </td><td>143000 </td><td>TRUE   </td></tr>\n",
       "</tbody>\n",
       "</table>\n"
      ],
      "text/latex": [
       "\\begin{tabular}{r|llllllllllllllllllllllllllllllllllllllllllllllllllllllllllllllllllllllllllllllllll}\n",
       " Id & MSSubClass & MSZoning & LotFrontage & LotArea & Street & Alley & LotShape & LandContour & Utilities & ⋯ & PoolQC & Fence & MiscFeature & MiscVal & MoSold & YrSold & SaleType & SaleCondition & SalePrice & IsTrainset\\\\\n",
       "\\hline\n",
       "\t 1       & 60      & RL      & 65      &  8450   & Pave    & NA      & Reg     & Lvl     & AllPub  & ⋯       & NA      & NA      & NA      &   0     &  2      & 2008    & WD      & Normal  & 208500  & TRUE   \\\\\n",
       "\t 2       & 20      & RL      & 80      &  9600   & Pave    & NA      & Reg     & Lvl     & AllPub  & ⋯       & NA      & NA      & NA      &   0     &  5      & 2007    & WD      & Normal  & 181500  & TRUE   \\\\\n",
       "\t 3       & 60      & RL      & 68      & 11250   & Pave    & NA      & IR1     & Lvl     & AllPub  & ⋯       & NA      & NA      & NA      &   0     &  9      & 2008    & WD      & Normal  & 223500  & TRUE   \\\\\n",
       "\t 4       & 70      & RL      & 60      &  9550   & Pave    & NA      & IR1     & Lvl     & AllPub  & ⋯       & NA      & NA      & NA      &   0     &  2      & 2006    & WD      & Abnorml & 140000  & TRUE   \\\\\n",
       "\t 5       & 60      & RL      & 84      & 14260   & Pave    & NA      & IR1     & Lvl     & AllPub  & ⋯       & NA      & NA      & NA      &   0     & 12      & 2008    & WD      & Normal  & 250000  & TRUE   \\\\\n",
       "\t 6       & 50      & RL      & 85      & 14115   & Pave    & NA      & IR1     & Lvl     & AllPub  & ⋯       & NA      & MnPrv   & Shed    & 700     & 10      & 2009    & WD      & Normal  & 143000  & TRUE   \\\\\n",
       "\\end{tabular}\n"
      ],
      "text/markdown": [
       "\n",
       "Id | MSSubClass | MSZoning | LotFrontage | LotArea | Street | Alley | LotShape | LandContour | Utilities | ⋯ | PoolQC | Fence | MiscFeature | MiscVal | MoSold | YrSold | SaleType | SaleCondition | SalePrice | IsTrainset | \n",
       "|---|---|---|---|---|---|\n",
       "| 1       | 60      | RL      | 65      |  8450   | Pave    | NA      | Reg     | Lvl     | AllPub  | ⋯       | NA      | NA      | NA      |   0     |  2      | 2008    | WD      | Normal  | 208500  | TRUE    | \n",
       "| 2       | 20      | RL      | 80      |  9600   | Pave    | NA      | Reg     | Lvl     | AllPub  | ⋯       | NA      | NA      | NA      |   0     |  5      | 2007    | WD      | Normal  | 181500  | TRUE    | \n",
       "| 3       | 60      | RL      | 68      | 11250   | Pave    | NA      | IR1     | Lvl     | AllPub  | ⋯       | NA      | NA      | NA      |   0     |  9      | 2008    | WD      | Normal  | 223500  | TRUE    | \n",
       "| 4       | 70      | RL      | 60      |  9550   | Pave    | NA      | IR1     | Lvl     | AllPub  | ⋯       | NA      | NA      | NA      |   0     |  2      | 2006    | WD      | Abnorml | 140000  | TRUE    | \n",
       "| 5       | 60      | RL      | 84      | 14260   | Pave    | NA      | IR1     | Lvl     | AllPub  | ⋯       | NA      | NA      | NA      |   0     | 12      | 2008    | WD      | Normal  | 250000  | TRUE    | \n",
       "| 6       | 50      | RL      | 85      | 14115   | Pave    | NA      | IR1     | Lvl     | AllPub  | ⋯       | NA      | MnPrv   | Shed    | 700     | 10      | 2009    | WD      | Normal  | 143000  | TRUE    | \n",
       "\n",
       "\n"
      ],
      "text/plain": [
       "  Id MSSubClass MSZoning LotFrontage LotArea Street Alley LotShape LandContour\n",
       "1 1  60         RL       65           8450   Pave   NA    Reg      Lvl        \n",
       "2 2  20         RL       80           9600   Pave   NA    Reg      Lvl        \n",
       "3 3  60         RL       68          11250   Pave   NA    IR1      Lvl        \n",
       "4 4  70         RL       60           9550   Pave   NA    IR1      Lvl        \n",
       "5 5  60         RL       84          14260   Pave   NA    IR1      Lvl        \n",
       "6 6  50         RL       85          14115   Pave   NA    IR1      Lvl        \n",
       "  Utilities ⋯ PoolQC Fence MiscFeature MiscVal MoSold YrSold SaleType\n",
       "1 AllPub    ⋯ NA     NA    NA            0      2     2008   WD      \n",
       "2 AllPub    ⋯ NA     NA    NA            0      5     2007   WD      \n",
       "3 AllPub    ⋯ NA     NA    NA            0      9     2008   WD      \n",
       "4 AllPub    ⋯ NA     NA    NA            0      2     2006   WD      \n",
       "5 AllPub    ⋯ NA     NA    NA            0     12     2008   WD      \n",
       "6 AllPub    ⋯ NA     MnPrv Shed        700     10     2009   WD      \n",
       "  SaleCondition SalePrice IsTrainset\n",
       "1 Normal        208500    TRUE      \n",
       "2 Normal        181500    TRUE      \n",
       "3 Normal        223500    TRUE      \n",
       "4 Abnorml       140000    TRUE      \n",
       "5 Normal        250000    TRUE      \n",
       "6 Normal        143000    TRUE      "
      ]
     },
     "metadata": {},
     "output_type": "display_data"
    }
   ],
   "source": [
    "head(combined_set)"
   ]
  },
  {
   "cell_type": "code",
   "execution_count": 12,
   "metadata": {},
   "outputs": [
    {
     "data": {
      "text/plain": [
       "\n",
       "FALSE  TRUE \n",
       " 2915     4 "
      ]
     },
     "metadata": {},
     "output_type": "display_data"
    }
   ],
   "source": [
    "table(is.na(combined_set$MSZoning))"
   ]
  },
  {
   "cell_type": "code",
   "execution_count": 13,
   "metadata": {},
   "outputs": [],
   "source": [
    "## first we take the 1)MSS\n"
   ]
  },
  {
   "cell_type": "code",
   "execution_count": 14,
   "metadata": {},
   "outputs": [
    {
     "data": {
      "image/png": "[encoded data removed]",
      "text/plain": [
       "plot without title"
      ]
     },
     "metadata": {},
     "output_type": "display_data"
    }
   ],
   "source": [
    "barplot(table(combined_set$MSZoning))  "
   ]
  },
  {
   "cell_type": "code",
   "execution_count": 15,
   "metadata": {},
   "outputs": [],
   "source": [
    "## we replace the NA with the RL here\n",
    "#which(combined_set$Embarked=='')\n",
    "#View(combined_set$Embarked)\n",
    "#combined_set$Embarked[c(62,830)]<-'S'"
   ]
  },
  {
   "cell_type": "code",
   "execution_count": 16,
   "metadata": {},
   "outputs": [
    {
     "data": {
      "text/html": [
       "<ol class=list-inline>\n",
       "\t<li>1916</li>\n",
       "\t<li>2217</li>\n",
       "\t<li>2251</li>\n",
       "\t<li>2905</li>\n",
       "</ol>\n"
      ],
      "text/latex": [
       "\\begin{enumerate*}\n",
       "\\item 1916\n",
       "\\item 2217\n",
       "\\item 2251\n",
       "\\item 2905\n",
       "\\end{enumerate*}\n"
      ],
      "text/markdown": [
       "1. 1916\n",
       "2. 2217\n",
       "3. 2251\n",
       "4. 2905\n",
       "\n",
       "\n"
      ],
      "text/plain": [
       "[1] 1916 2217 2251 2905"
      ]
     },
     "metadata": {},
     "output_type": "display_data"
    }
   ],
   "source": [
    "which(is.na(combined_set$MSZoning))\n",
    "## found it  now replacing\n"
   ]
  },
  {
   "cell_type": "code",
   "execution_count": 17,
   "metadata": {},
   "outputs": [
    {
     "data": {
      "text/html": [
       "<ol class=list-inline>\n",
       "\t<li>&lt;NA&gt;</li>\n",
       "\t<li>&lt;NA&gt;</li>\n",
       "\t<li>&lt;NA&gt;</li>\n",
       "\t<li>&lt;NA&gt;</li>\n",
       "</ol>\n",
       "\n",
       "<details>\n",
       "\t<summary style=display:list-item;cursor:pointer>\n",
       "\t\t<strong>Levels</strong>:\n",
       "\t</summary>\n",
       "\t<ol class=list-inline>\n",
       "\t\t<li>'C (all)'</li>\n",
       "\t\t<li>'FV'</li>\n",
       "\t\t<li>'RH'</li>\n",
       "\t\t<li>'RL'</li>\n",
       "\t\t<li>'RM'</li>\n",
       "\t</ol>\n",
       "</details>"
      ],
      "text/latex": [
       "\\begin{enumerate*}\n",
       "\\item <NA>\n",
       "\\item <NA>\n",
       "\\item <NA>\n",
       "\\item <NA>\n",
       "\\end{enumerate*}\n",
       "\n",
       "\\emph{Levels}: \\begin{enumerate*}\n",
       "\\item 'C (all)'\n",
       "\\item 'FV'\n",
       "\\item 'RH'\n",
       "\\item 'RL'\n",
       "\\item 'RM'\n",
       "\\end{enumerate*}\n"
      ],
      "text/markdown": [
       "1. &lt;NA&gt;\n",
       "2. &lt;NA&gt;\n",
       "3. &lt;NA&gt;\n",
       "4. &lt;NA&gt;\n",
       "\n",
       "\n",
       "\n",
       "**Levels**: 1. 'C (all)'\n",
       "2. 'FV'\n",
       "3. 'RH'\n",
       "4. 'RL'\n",
       "5. 'RM'\n",
       "\n",
       "\n"
      ],
      "text/plain": [
       "[1] <NA> <NA> <NA> <NA>\n",
       "Levels: C (all) FV RH RL RM"
      ]
     },
     "metadata": {},
     "output_type": "display_data"
    }
   ],
   "source": [
    "combined_set$MSZoning[c('1916','2217','2251','2905')]"
   ]
  },
  {
   "cell_type": "code",
   "execution_count": 18,
   "metadata": {},
   "outputs": [],
   "source": [
    "combined_set$MSZoning[c(1916,2217,2251,2905)] <- 'RL'"
   ]
  },
  {
   "cell_type": "code",
   "execution_count": 22,
   "metadata": {},
   "outputs": [
    {
     "data": {
      "text/html": [
       "RL\n",
       "<details>\n",
       "\t<summary style=display:list-item;cursor:pointer>\n",
       "\t\t<strong>Levels</strong>:\n",
       "\t</summary>\n",
       "\t<ol class=list-inline>\n",
       "\t\t<li>'C (all)'</li>\n",
       "\t\t<li>'FV'</li>\n",
       "\t\t<li>'RH'</li>\n",
       "\t\t<li>'RL'</li>\n",
       "\t\t<li>'RM'</li>\n",
       "\t</ol>\n",
       "</details>"
      ],
      "text/latex": [
       "RL\n",
       "\\emph{Levels}: \\begin{enumerate*}\n",
       "\\item 'C (all)'\n",
       "\\item 'FV'\n",
       "\\item 'RH'\n",
       "\\item 'RL'\n",
       "\\item 'RM'\n",
       "\\end{enumerate*}\n"
      ],
      "text/markdown": [
       "RL\n",
       "**Levels**: 1. 'C (all)'\n",
       "2. 'FV'\n",
       "3. 'RH'\n",
       "4. 'RL'\n",
       "5. 'RM'\n",
       "\n",
       "\n"
      ],
      "text/plain": [
       "[1] RL\n",
       "Levels: C (all) FV RH RL RM"
      ]
     },
     "metadata": {},
     "output_type": "display_data"
    }
   ],
   "source": [
    "combined_set$MSZoning[2217]"
   ]
  },
  {
   "cell_type": "code",
   "execution_count": 20,
   "metadata": {},
   "outputs": [
    {
     "data": {
      "text/html": [],
      "text/latex": [],
      "text/markdown": [],
      "text/plain": [
       "integer(0)"
      ]
     },
     "metadata": {},
     "output_type": "display_data"
    }
   ],
   "source": [
    "which(is.na(combined_set$MSZoning))\n",
    "## we take this column 2)MSZ"
   ]
  },
  {
   "cell_type": "code",
   "execution_count": 23,
   "metadata": {},
   "outputs": [
    {
     "data": {
      "text/html": [
       "<table>\n",
       "<thead><tr><th scope=col>Id</th><th scope=col>MSSubClass</th><th scope=col>MSZoning</th><th scope=col>LotFrontage</th><th scope=col>LotArea</th><th scope=col>Street</th><th scope=col>Alley</th><th scope=col>LotShape</th><th scope=col>LandContour</th><th scope=col>Utilities</th><th scope=col>⋯</th><th scope=col>PoolQC</th><th scope=col>Fence</th><th scope=col>MiscFeature</th><th scope=col>MiscVal</th><th scope=col>MoSold</th><th scope=col>YrSold</th><th scope=col>SaleType</th><th scope=col>SaleCondition</th><th scope=col>SalePrice</th><th scope=col>IsTrainset</th></tr></thead>\n",
       "<tbody>\n",
       "\t<tr><td>1      </td><td>60     </td><td>RL     </td><td>65     </td><td> 8450  </td><td>Pave   </td><td>NA     </td><td>Reg    </td><td>Lvl    </td><td>AllPub </td><td>⋯      </td><td>NA     </td><td>NA     </td><td>NA     </td><td>  0    </td><td> 2     </td><td>2008   </td><td>WD     </td><td>Normal </td><td>208500 </td><td>TRUE   </td></tr>\n",
       "\t<tr><td>2      </td><td>20     </td><td>RL     </td><td>80     </td><td> 9600  </td><td>Pave   </td><td>NA     </td><td>Reg    </td><td>Lvl    </td><td>AllPub </td><td>⋯      </td><td>NA     </td><td>NA     </td><td>NA     </td><td>  0    </td><td> 5     </td><td>2007   </td><td>WD     </td><td>Normal </td><td>181500 </td><td>TRUE   </td></tr>\n",
       "\t<tr><td>3      </td><td>60     </td><td>RL     </td><td>68     </td><td>11250  </td><td>Pave   </td><td>NA     </td><td>IR1    </td><td>Lvl    </td><td>AllPub </td><td>⋯      </td><td>NA     </td><td>NA     </td><td>NA     </td><td>  0    </td><td> 9     </td><td>2008   </td><td>WD     </td><td>Normal </td><td>223500 </td><td>TRUE   </td></tr>\n",
       "\t<tr><td>4      </td><td>70     </td><td>RL     </td><td>60     </td><td> 9550  </td><td>Pave   </td><td>NA     </td><td>IR1    </td><td>Lvl    </td><td>AllPub </td><td>⋯      </td><td>NA     </td><td>NA     </td><td>NA     </td><td>  0    </td><td> 2     </td><td>2006   </td><td>WD     </td><td>Abnorml</td><td>140000 </td><td>TRUE   </td></tr>\n",
       "\t<tr><td>5      </td><td>60     </td><td>RL     </td><td>84     </td><td>14260  </td><td>Pave   </td><td>NA     </td><td>IR1    </td><td>Lvl    </td><td>AllPub </td><td>⋯      </td><td>NA     </td><td>NA     </td><td>NA     </td><td>  0    </td><td>12     </td><td>2008   </td><td>WD     </td><td>Normal </td><td>250000 </td><td>TRUE   </td></tr>\n",
       "\t<tr><td>6      </td><td>50     </td><td>RL     </td><td>85     </td><td>14115  </td><td>Pave   </td><td>NA     </td><td>IR1    </td><td>Lvl    </td><td>AllPub </td><td>⋯      </td><td>NA     </td><td>MnPrv  </td><td>Shed   </td><td>700    </td><td>10     </td><td>2009   </td><td>WD     </td><td>Normal </td><td>143000 </td><td>TRUE   </td></tr>\n",
       "</tbody>\n",
       "</table>\n"
      ],
      "text/latex": [
       "\\begin{tabular}{r|llllllllllllllllllllllllllllllllllllllllllllllllllllllllllllllllllllllllllllllllll}\n",
       " Id & MSSubClass & MSZoning & LotFrontage & LotArea & Street & Alley & LotShape & LandContour & Utilities & ⋯ & PoolQC & Fence & MiscFeature & MiscVal & MoSold & YrSold & SaleType & SaleCondition & SalePrice & IsTrainset\\\\\n",
       "\\hline\n",
       "\t 1       & 60      & RL      & 65      &  8450   & Pave    & NA      & Reg     & Lvl     & AllPub  & ⋯       & NA      & NA      & NA      &   0     &  2      & 2008    & WD      & Normal  & 208500  & TRUE   \\\\\n",
       "\t 2       & 20      & RL      & 80      &  9600   & Pave    & NA      & Reg     & Lvl     & AllPub  & ⋯       & NA      & NA      & NA      &   0     &  5      & 2007    & WD      & Normal  & 181500  & TRUE   \\\\\n",
       "\t 3       & 60      & RL      & 68      & 11250   & Pave    & NA      & IR1     & Lvl     & AllPub  & ⋯       & NA      & NA      & NA      &   0     &  9      & 2008    & WD      & Normal  & 223500  & TRUE   \\\\\n",
       "\t 4       & 70      & RL      & 60      &  9550   & Pave    & NA      & IR1     & Lvl     & AllPub  & ⋯       & NA      & NA      & NA      &   0     &  2      & 2006    & WD      & Abnorml & 140000  & TRUE   \\\\\n",
       "\t 5       & 60      & RL      & 84      & 14260   & Pave    & NA      & IR1     & Lvl     & AllPub  & ⋯       & NA      & NA      & NA      &   0     & 12      & 2008    & WD      & Normal  & 250000  & TRUE   \\\\\n",
       "\t 6       & 50      & RL      & 85      & 14115   & Pave    & NA      & IR1     & Lvl     & AllPub  & ⋯       & NA      & MnPrv   & Shed    & 700     & 10      & 2009    & WD      & Normal  & 143000  & TRUE   \\\\\n",
       "\\end{tabular}\n"
      ],
      "text/markdown": [
       "\n",
       "Id | MSSubClass | MSZoning | LotFrontage | LotArea | Street | Alley | LotShape | LandContour | Utilities | ⋯ | PoolQC | Fence | MiscFeature | MiscVal | MoSold | YrSold | SaleType | SaleCondition | SalePrice | IsTrainset | \n",
       "|---|---|---|---|---|---|\n",
       "| 1       | 60      | RL      | 65      |  8450   | Pave    | NA      | Reg     | Lvl     | AllPub  | ⋯       | NA      | NA      | NA      |   0     |  2      | 2008    | WD      | Normal  | 208500  | TRUE    | \n",
       "| 2       | 20      | RL      | 80      |  9600   | Pave    | NA      | Reg     | Lvl     | AllPub  | ⋯       | NA      | NA      | NA      |   0     |  5      | 2007    | WD      | Normal  | 181500  | TRUE    | \n",
       "| 3       | 60      | RL      | 68      | 11250   | Pave    | NA      | IR1     | Lvl     | AllPub  | ⋯       | NA      | NA      | NA      |   0     |  9      | 2008    | WD      | Normal  | 223500  | TRUE    | \n",
       "| 4       | 70      | RL      | 60      |  9550   | Pave    | NA      | IR1     | Lvl     | AllPub  | ⋯       | NA      | NA      | NA      |   0     |  2      | 2006    | WD      | Abnorml | 140000  | TRUE    | \n",
       "| 5       | 60      | RL      | 84      | 14260   | Pave    | NA      | IR1     | Lvl     | AllPub  | ⋯       | NA      | NA      | NA      |   0     | 12      | 2008    | WD      | Normal  | 250000  | TRUE    | \n",
       "| 6       | 50      | RL      | 85      | 14115   | Pave    | NA      | IR1     | Lvl     | AllPub  | ⋯       | NA      | MnPrv   | Shed    | 700     | 10      | 2009    | WD      | Normal  | 143000  | TRUE    | \n",
       "\n",
       "\n"
      ],
      "text/plain": [
       "  Id MSSubClass MSZoning LotFrontage LotArea Street Alley LotShape LandContour\n",
       "1 1  60         RL       65           8450   Pave   NA    Reg      Lvl        \n",
       "2 2  20         RL       80           9600   Pave   NA    Reg      Lvl        \n",
       "3 3  60         RL       68          11250   Pave   NA    IR1      Lvl        \n",
       "4 4  70         RL       60           9550   Pave   NA    IR1      Lvl        \n",
       "5 5  60         RL       84          14260   Pave   NA    IR1      Lvl        \n",
       "6 6  50         RL       85          14115   Pave   NA    IR1      Lvl        \n",
       "  Utilities ⋯ PoolQC Fence MiscFeature MiscVal MoSold YrSold SaleType\n",
       "1 AllPub    ⋯ NA     NA    NA            0      2     2008   WD      \n",
       "2 AllPub    ⋯ NA     NA    NA            0      5     2007   WD      \n",
       "3 AllPub    ⋯ NA     NA    NA            0      9     2008   WD      \n",
       "4 AllPub    ⋯ NA     NA    NA            0      2     2006   WD      \n",
       "5 AllPub    ⋯ NA     NA    NA            0     12     2008   WD      \n",
       "6 AllPub    ⋯ NA     MnPrv Shed        700     10     2009   WD      \n",
       "  SaleCondition SalePrice IsTrainset\n",
       "1 Normal        208500    TRUE      \n",
       "2 Normal        181500    TRUE      \n",
       "3 Normal        223500    TRUE      \n",
       "4 Abnorml       140000    TRUE      \n",
       "5 Normal        250000    TRUE      \n",
       "6 Normal        143000    TRUE      "
      ]
     },
     "metadata": {},
     "output_type": "display_data"
    }
   ],
   "source": [
    "head(combined_set)"
   ]
  },
  {
   "cell_type": "code",
   "execution_count": 25,
   "metadata": {},
   "outputs": [
    {
     "data": {
      "text/plain": [
       "\n",
       "FALSE  TRUE \n",
       " 2433   486 "
      ]
     },
     "metadata": {},
     "output_type": "display_data"
    }
   ],
   "source": [
    "table(is.na(combined_set$LotFrontage))"
   ]
  },
  {
   "cell_type": "code",
   "execution_count": 26,
   "metadata": {},
   "outputs": [],
   "source": [
    "## we will either median or find the prediction woth anova but we have to create the decision tree\n",
    "## we will pause here lets see the other column\n",
    "## nevermind drop it"
   ]
  },
  {
   "cell_type": "code",
   "execution_count": 27,
   "metadata": {},
   "outputs": [
    {
     "data": {
      "text/plain": [
       "\n",
       "FALSE \n",
       " 2919 "
      ]
     },
     "metadata": {},
     "output_type": "display_data"
    }
   ],
   "source": [
    "table(is.na(combined_set$LotArea))\n",
    "##perfect"
   ]
  },
  {
   "cell_type": "code",
   "execution_count": 28,
   "metadata": {},
   "outputs": [
    {
     "data": {
      "text/plain": [
       "\n",
       "FALSE \n",
       " 2919 "
      ]
     },
     "metadata": {},
     "output_type": "display_data"
    }
   ],
   "source": [
    "table(is.na(combined_set$Street))\n",
    "#perfect"
   ]
  },
  {
   "cell_type": "code",
   "execution_count": 29,
   "metadata": {},
   "outputs": [
    {
     "data": {
      "text/plain": [
       "\n",
       "FALSE  TRUE \n",
       "  198  2721 "
      ]
     },
     "metadata": {},
     "output_type": "display_data"
    }
   ],
   "source": [
    "table(is.na(combined_set$Alley))"
   ]
  },
  {
   "cell_type": "code",
   "execution_count": 34,
   "metadata": {},
   "outputs": [
    {
     "data": {
      "image/png": "[encoded data removed]",
      "text/plain": [
       "plot without title"
      ]
     },
     "metadata": {},
     "output_type": "display_data"
    }
   ],
   "source": [
    "barplot(table(is.na(combined_set$Alley)))"
   ]
  },
  {
   "cell_type": "code",
   "execution_count": 35,
   "metadata": {},
   "outputs": [],
   "source": [
    "## not good we have to drop the column\n",
    "##moving right along"
   ]
  },
  {
   "cell_type": "code",
   "execution_count": 36,
   "metadata": {},
   "outputs": [
    {
     "data": {
      "text/html": [
       "<table>\n",
       "<thead><tr><th scope=col>Id</th><th scope=col>MSSubClass</th><th scope=col>MSZoning</th><th scope=col>LotFrontage</th><th scope=col>LotArea</th><th scope=col>Street</th><th scope=col>Alley</th><th scope=col>LotShape</th><th scope=col>LandContour</th><th scope=col>Utilities</th><th scope=col>⋯</th><th scope=col>PoolQC</th><th scope=col>Fence</th><th scope=col>MiscFeature</th><th scope=col>MiscVal</th><th scope=col>MoSold</th><th scope=col>YrSold</th><th scope=col>SaleType</th><th scope=col>SaleCondition</th><th scope=col>SalePrice</th><th scope=col>IsTrainset</th></tr></thead>\n",
       "<tbody>\n",
       "\t<tr><td>1      </td><td>60     </td><td>RL     </td><td>65     </td><td> 8450  </td><td>Pave   </td><td>NA     </td><td>Reg    </td><td>Lvl    </td><td>AllPub </td><td>⋯      </td><td>NA     </td><td>NA     </td><td>NA     </td><td>  0    </td><td> 2     </td><td>2008   </td><td>WD     </td><td>Normal </td><td>208500 </td><td>TRUE   </td></tr>\n",
       "\t<tr><td>2      </td><td>20     </td><td>RL     </td><td>80     </td><td> 9600  </td><td>Pave   </td><td>NA     </td><td>Reg    </td><td>Lvl    </td><td>AllPub </td><td>⋯      </td><td>NA     </td><td>NA     </td><td>NA     </td><td>  0    </td><td> 5     </td><td>2007   </td><td>WD     </td><td>Normal </td><td>181500 </td><td>TRUE   </td></tr>\n",
       "\t<tr><td>3      </td><td>60     </td><td>RL     </td><td>68     </td><td>11250  </td><td>Pave   </td><td>NA     </td><td>IR1    </td><td>Lvl    </td><td>AllPub </td><td>⋯      </td><td>NA     </td><td>NA     </td><td>NA     </td><td>  0    </td><td> 9     </td><td>2008   </td><td>WD     </td><td>Normal </td><td>223500 </td><td>TRUE   </td></tr>\n",
       "\t<tr><td>4      </td><td>70     </td><td>RL     </td><td>60     </td><td> 9550  </td><td>Pave   </td><td>NA     </td><td>IR1    </td><td>Lvl    </td><td>AllPub </td><td>⋯      </td><td>NA     </td><td>NA     </td><td>NA     </td><td>  0    </td><td> 2     </td><td>2006   </td><td>WD     </td><td>Abnorml</td><td>140000 </td><td>TRUE   </td></tr>\n",
       "\t<tr><td>5      </td><td>60     </td><td>RL     </td><td>84     </td><td>14260  </td><td>Pave   </td><td>NA     </td><td>IR1    </td><td>Lvl    </td><td>AllPub </td><td>⋯      </td><td>NA     </td><td>NA     </td><td>NA     </td><td>  0    </td><td>12     </td><td>2008   </td><td>WD     </td><td>Normal </td><td>250000 </td><td>TRUE   </td></tr>\n",
       "\t<tr><td>6      </td><td>50     </td><td>RL     </td><td>85     </td><td>14115  </td><td>Pave   </td><td>NA     </td><td>IR1    </td><td>Lvl    </td><td>AllPub </td><td>⋯      </td><td>NA     </td><td>MnPrv  </td><td>Shed   </td><td>700    </td><td>10     </td><td>2009   </td><td>WD     </td><td>Normal </td><td>143000 </td><td>TRUE   </td></tr>\n",
       "</tbody>\n",
       "</table>\n"
      ],
      "text/latex": [
       "\\begin{tabular}{r|llllllllllllllllllllllllllllllllllllllllllllllllllllllllllllllllllllllllllllllllll}\n",
       " Id & MSSubClass & MSZoning & LotFrontage & LotArea & Street & Alley & LotShape & LandContour & Utilities & ⋯ & PoolQC & Fence & MiscFeature & MiscVal & MoSold & YrSold & SaleType & SaleCondition & SalePrice & IsTrainset\\\\\n",
       "\\hline\n",
       "\t 1       & 60      & RL      & 65      &  8450   & Pave    & NA      & Reg     & Lvl     & AllPub  & ⋯       & NA      & NA      & NA      &   0     &  2      & 2008    & WD      & Normal  & 208500  & TRUE   \\\\\n",
       "\t 2       & 20      & RL      & 80      &  9600   & Pave    & NA      & Reg     & Lvl     & AllPub  & ⋯       & NA      & NA      & NA      &   0     &  5      & 2007    & WD      & Normal  & 181500  & TRUE   \\\\\n",
       "\t 3       & 60      & RL      & 68      & 11250   & Pave    & NA      & IR1     & Lvl     & AllPub  & ⋯       & NA      & NA      & NA      &   0     &  9      & 2008    & WD      & Normal  & 223500  & TRUE   \\\\\n",
       "\t 4       & 70      & RL      & 60      &  9550   & Pave    & NA      & IR1     & Lvl     & AllPub  & ⋯       & NA      & NA      & NA      &   0     &  2      & 2006    & WD      & Abnorml & 140000  & TRUE   \\\\\n",
       "\t 5       & 60      & RL      & 84      & 14260   & Pave    & NA      & IR1     & Lvl     & AllPub  & ⋯       & NA      & NA      & NA      &   0     & 12      & 2008    & WD      & Normal  & 250000  & TRUE   \\\\\n",
       "\t 6       & 50      & RL      & 85      & 14115   & Pave    & NA      & IR1     & Lvl     & AllPub  & ⋯       & NA      & MnPrv   & Shed    & 700     & 10      & 2009    & WD      & Normal  & 143000  & TRUE   \\\\\n",
       "\\end{tabular}\n"
      ],
      "text/markdown": [
       "\n",
       "Id | MSSubClass | MSZoning | LotFrontage | LotArea | Street | Alley | LotShape | LandContour | Utilities | ⋯ | PoolQC | Fence | MiscFeature | MiscVal | MoSold | YrSold | SaleType | SaleCondition | SalePrice | IsTrainset | \n",
       "|---|---|---|---|---|---|\n",
       "| 1       | 60      | RL      | 65      |  8450   | Pave    | NA      | Reg     | Lvl     | AllPub  | ⋯       | NA      | NA      | NA      |   0     |  2      | 2008    | WD      | Normal  | 208500  | TRUE    | \n",
       "| 2       | 20      | RL      | 80      |  9600   | Pave    | NA      | Reg     | Lvl     | AllPub  | ⋯       | NA      | NA      | NA      |   0     |  5      | 2007    | WD      | Normal  | 181500  | TRUE    | \n",
       "| 3       | 60      | RL      | 68      | 11250   | Pave    | NA      | IR1     | Lvl     | AllPub  | ⋯       | NA      | NA      | NA      |   0     |  9      | 2008    | WD      | Normal  | 223500  | TRUE    | \n",
       "| 4       | 70      | RL      | 60      |  9550   | Pave    | NA      | IR1     | Lvl     | AllPub  | ⋯       | NA      | NA      | NA      |   0     |  2      | 2006    | WD      | Abnorml | 140000  | TRUE    | \n",
       "| 5       | 60      | RL      | 84      | 14260   | Pave    | NA      | IR1     | Lvl     | AllPub  | ⋯       | NA      | NA      | NA      |   0     | 12      | 2008    | WD      | Normal  | 250000  | TRUE    | \n",
       "| 6       | 50      | RL      | 85      | 14115   | Pave    | NA      | IR1     | Lvl     | AllPub  | ⋯       | NA      | MnPrv   | Shed    | 700     | 10      | 2009    | WD      | Normal  | 143000  | TRUE    | \n",
       "\n",
       "\n"
      ],
      "text/plain": [
       "  Id MSSubClass MSZoning LotFrontage LotArea Street Alley LotShape LandContour\n",
       "1 1  60         RL       65           8450   Pave   NA    Reg      Lvl        \n",
       "2 2  20         RL       80           9600   Pave   NA    Reg      Lvl        \n",
       "3 3  60         RL       68          11250   Pave   NA    IR1      Lvl        \n",
       "4 4  70         RL       60           9550   Pave   NA    IR1      Lvl        \n",
       "5 5  60         RL       84          14260   Pave   NA    IR1      Lvl        \n",
       "6 6  50         RL       85          14115   Pave   NA    IR1      Lvl        \n",
       "  Utilities ⋯ PoolQC Fence MiscFeature MiscVal MoSold YrSold SaleType\n",
       "1 AllPub    ⋯ NA     NA    NA            0      2     2008   WD      \n",
       "2 AllPub    ⋯ NA     NA    NA            0      5     2007   WD      \n",
       "3 AllPub    ⋯ NA     NA    NA            0      9     2008   WD      \n",
       "4 AllPub    ⋯ NA     NA    NA            0      2     2006   WD      \n",
       "5 AllPub    ⋯ NA     NA    NA            0     12     2008   WD      \n",
       "6 AllPub    ⋯ NA     MnPrv Shed        700     10     2009   WD      \n",
       "  SaleCondition SalePrice IsTrainset\n",
       "1 Normal        208500    TRUE      \n",
       "2 Normal        181500    TRUE      \n",
       "3 Normal        223500    TRUE      \n",
       "4 Abnorml       140000    TRUE      \n",
       "5 Normal        250000    TRUE      \n",
       "6 Normal        143000    TRUE      "
      ]
     },
     "metadata": {},
     "output_type": "display_data"
    }
   ],
   "source": [
    "head(combined_set)"
   ]
  },
  {
   "cell_type": "code",
   "execution_count": 39,
   "metadata": {},
   "outputs": [
    {
     "data": {
      "text/plain": [
       "\n",
       "FALSE \n",
       " 2919 "
      ]
     },
     "metadata": {},
     "output_type": "display_data"
    }
   ],
   "source": [
    "table(is.na(combined_set$LotShape))\n",
    "#good we will use that to after converting as  a factor"
   ]
  },
  {
   "cell_type": "code",
   "execution_count": 40,
   "metadata": {},
   "outputs": [
    {
     "data": {
      "text/plain": [
       "\n",
       "FALSE \n",
       " 2919 "
      ]
     },
     "metadata": {},
     "output_type": "display_data"
    }
   ],
   "source": [
    "table(is.na(combined_set$LandContour))\n",
    "#good we will use that to after converting as  a factor"
   ]
  },
  {
   "cell_type": "code",
   "execution_count": 41,
   "metadata": {},
   "outputs": [
    {
     "data": {
      "text/plain": [
       "\n",
       "FALSE  TRUE \n",
       " 2917     2 "
      ]
     },
     "metadata": {},
     "output_type": "display_data"
    }
   ],
   "source": [
    "table(is.na(combined_set$Utilities))"
   ]
  },
  {
   "cell_type": "code",
   "execution_count": 46,
   "metadata": {},
   "outputs": [
    {
     "data": {
      "text/plain": [
       "\n",
       "AllPub NoSeWa \n",
       "  2916      1 "
      ]
     },
     "metadata": {},
     "output_type": "display_data"
    }
   ],
   "source": [
    "table(combined_set$Utilities)"
   ]
  },
  {
   "cell_type": "code",
   "execution_count": 44,
   "metadata": {},
   "outputs": [
    {
     "data": {
      "text/html": [
       "<ol class=list-inline>\n",
       "\t<li>1916</li>\n",
       "\t<li>1946</li>\n",
       "</ol>\n"
      ],
      "text/latex": [
       "\\begin{enumerate*}\n",
       "\\item 1916\n",
       "\\item 1946\n",
       "\\end{enumerate*}\n"
      ],
      "text/markdown": [
       "1. 1916\n",
       "2. 1946\n",
       "\n",
       "\n"
      ],
      "text/plain": [
       "[1] 1916 1946"
      ]
     },
     "metadata": {},
     "output_type": "display_data"
    }
   ],
   "source": [
    "which(is.na(combined_set$Utilities))"
   ]
  },
  {
   "cell_type": "code",
   "execution_count": 47,
   "metadata": {},
   "outputs": [],
   "source": [
    "combined_set$Utilities[c(1916,1946)] <- 'AllPub'"
   ]
  },
  {
   "cell_type": "code",
   "execution_count": 50,
   "metadata": {},
   "outputs": [
    {
     "data": {
      "text/plain": [
       "\n",
       "FALSE \n",
       " 2919 "
      ]
     },
     "metadata": {},
     "output_type": "display_data"
    }
   ],
   "source": [
    "table(is.na(combined_set$Utilities))\n",
    "## now we use that"
   ]
  },
  {
   "cell_type": "code",
   "execution_count": 51,
   "metadata": {},
   "outputs": [
    {
     "data": {
      "text/html": [
       "<table>\n",
       "<thead><tr><th scope=col>Id</th><th scope=col>MSSubClass</th><th scope=col>MSZoning</th><th scope=col>LotFrontage</th><th scope=col>LotArea</th><th scope=col>Street</th><th scope=col>Alley</th><th scope=col>LotShape</th><th scope=col>LandContour</th><th scope=col>Utilities</th><th scope=col>⋯</th><th scope=col>PoolQC</th><th scope=col>Fence</th><th scope=col>MiscFeature</th><th scope=col>MiscVal</th><th scope=col>MoSold</th><th scope=col>YrSold</th><th scope=col>SaleType</th><th scope=col>SaleCondition</th><th scope=col>SalePrice</th><th scope=col>IsTrainset</th></tr></thead>\n",
       "<tbody>\n",
       "\t<tr><td>1      </td><td>60     </td><td>RL     </td><td>65     </td><td> 8450  </td><td>Pave   </td><td>NA     </td><td>Reg    </td><td>Lvl    </td><td>AllPub </td><td>⋯      </td><td>NA     </td><td>NA     </td><td>NA     </td><td>  0    </td><td> 2     </td><td>2008   </td><td>WD     </td><td>Normal </td><td>208500 </td><td>TRUE   </td></tr>\n",
       "\t<tr><td>2      </td><td>20     </td><td>RL     </td><td>80     </td><td> 9600  </td><td>Pave   </td><td>NA     </td><td>Reg    </td><td>Lvl    </td><td>AllPub </td><td>⋯      </td><td>NA     </td><td>NA     </td><td>NA     </td><td>  0    </td><td> 5     </td><td>2007   </td><td>WD     </td><td>Normal </td><td>181500 </td><td>TRUE   </td></tr>\n",
       "\t<tr><td>3      </td><td>60     </td><td>RL     </td><td>68     </td><td>11250  </td><td>Pave   </td><td>NA     </td><td>IR1    </td><td>Lvl    </td><td>AllPub </td><td>⋯      </td><td>NA     </td><td>NA     </td><td>NA     </td><td>  0    </td><td> 9     </td><td>2008   </td><td>WD     </td><td>Normal </td><td>223500 </td><td>TRUE   </td></tr>\n",
       "\t<tr><td>4      </td><td>70     </td><td>RL     </td><td>60     </td><td> 9550  </td><td>Pave   </td><td>NA     </td><td>IR1    </td><td>Lvl    </td><td>AllPub </td><td>⋯      </td><td>NA     </td><td>NA     </td><td>NA     </td><td>  0    </td><td> 2     </td><td>2006   </td><td>WD     </td><td>Abnorml</td><td>140000 </td><td>TRUE   </td></tr>\n",
       "\t<tr><td>5      </td><td>60     </td><td>RL     </td><td>84     </td><td>14260  </td><td>Pave   </td><td>NA     </td><td>IR1    </td><td>Lvl    </td><td>AllPub </td><td>⋯      </td><td>NA     </td><td>NA     </td><td>NA     </td><td>  0    </td><td>12     </td><td>2008   </td><td>WD     </td><td>Normal </td><td>250000 </td><td>TRUE   </td></tr>\n",
       "\t<tr><td>6      </td><td>50     </td><td>RL     </td><td>85     </td><td>14115  </td><td>Pave   </td><td>NA     </td><td>IR1    </td><td>Lvl    </td><td>AllPub </td><td>⋯      </td><td>NA     </td><td>MnPrv  </td><td>Shed   </td><td>700    </td><td>10     </td><td>2009   </td><td>WD     </td><td>Normal </td><td>143000 </td><td>TRUE   </td></tr>\n",
       "</tbody>\n",
       "</table>\n"
      ],
      "text/latex": [
       "\\begin{tabular}{r|llllllllllllllllllllllllllllllllllllllllllllllllllllllllllllllllllllllllllllllllll}\n",
       " Id & MSSubClass & MSZoning & LotFrontage & LotArea & Street & Alley & LotShape & LandContour & Utilities & ⋯ & PoolQC & Fence & MiscFeature & MiscVal & MoSold & YrSold & SaleType & SaleCondition & SalePrice & IsTrainset\\\\\n",
       "\\hline\n",
       "\t 1       & 60      & RL      & 65      &  8450   & Pave    & NA      & Reg     & Lvl     & AllPub  & ⋯       & NA      & NA      & NA      &   0     &  2      & 2008    & WD      & Normal  & 208500  & TRUE   \\\\\n",
       "\t 2       & 20      & RL      & 80      &  9600   & Pave    & NA      & Reg     & Lvl     & AllPub  & ⋯       & NA      & NA      & NA      &   0     &  5      & 2007    & WD      & Normal  & 181500  & TRUE   \\\\\n",
       "\t 3       & 60      & RL      & 68      & 11250   & Pave    & NA      & IR1     & Lvl     & AllPub  & ⋯       & NA      & NA      & NA      &   0     &  9      & 2008    & WD      & Normal  & 223500  & TRUE   \\\\\n",
       "\t 4       & 70      & RL      & 60      &  9550   & Pave    & NA      & IR1     & Lvl     & AllPub  & ⋯       & NA      & NA      & NA      &   0     &  2      & 2006    & WD      & Abnorml & 140000  & TRUE   \\\\\n",
       "\t 5       & 60      & RL      & 84      & 14260   & Pave    & NA      & IR1     & Lvl     & AllPub  & ⋯       & NA      & NA      & NA      &   0     & 12      & 2008    & WD      & Normal  & 250000  & TRUE   \\\\\n",
       "\t 6       & 50      & RL      & 85      & 14115   & Pave    & NA      & IR1     & Lvl     & AllPub  & ⋯       & NA      & MnPrv   & Shed    & 700     & 10      & 2009    & WD      & Normal  & 143000  & TRUE   \\\\\n",
       "\\end{tabular}\n"
      ],
      "text/markdown": [
       "\n",
       "Id | MSSubClass | MSZoning | LotFrontage | LotArea | Street | Alley | LotShape | LandContour | Utilities | ⋯ | PoolQC | Fence | MiscFeature | MiscVal | MoSold | YrSold | SaleType | SaleCondition | SalePrice | IsTrainset | \n",
       "|---|---|---|---|---|---|\n",
       "| 1       | 60      | RL      | 65      |  8450   | Pave    | NA      | Reg     | Lvl     | AllPub  | ⋯       | NA      | NA      | NA      |   0     |  2      | 2008    | WD      | Normal  | 208500  | TRUE    | \n",
       "| 2       | 20      | RL      | 80      |  9600   | Pave    | NA      | Reg     | Lvl     | AllPub  | ⋯       | NA      | NA      | NA      |   0     |  5      | 2007    | WD      | Normal  | 181500  | TRUE    | \n",
       "| 3       | 60      | RL      | 68      | 11250   | Pave    | NA      | IR1     | Lvl     | AllPub  | ⋯       | NA      | NA      | NA      |   0     |  9      | 2008    | WD      | Normal  | 223500  | TRUE    | \n",
       "| 4       | 70      | RL      | 60      |  9550   | Pave    | NA      | IR1     | Lvl     | AllPub  | ⋯       | NA      | NA      | NA      |   0     |  2      | 2006    | WD      | Abnorml | 140000  | TRUE    | \n",
       "| 5       | 60      | RL      | 84      | 14260   | Pave    | NA      | IR1     | Lvl     | AllPub  | ⋯       | NA      | NA      | NA      |   0     | 12      | 2008    | WD      | Normal  | 250000  | TRUE    | \n",
       "| 6       | 50      | RL      | 85      | 14115   | Pave    | NA      | IR1     | Lvl     | AllPub  | ⋯       | NA      | MnPrv   | Shed    | 700     | 10      | 2009    | WD      | Normal  | 143000  | TRUE    | \n",
       "\n",
       "\n"
      ],
      "text/plain": [
       "  Id MSSubClass MSZoning LotFrontage LotArea Street Alley LotShape LandContour\n",
       "1 1  60         RL       65           8450   Pave   NA    Reg      Lvl        \n",
       "2 2  20         RL       80           9600   Pave   NA    Reg      Lvl        \n",
       "3 3  60         RL       68          11250   Pave   NA    IR1      Lvl        \n",
       "4 4  70         RL       60           9550   Pave   NA    IR1      Lvl        \n",
       "5 5  60         RL       84          14260   Pave   NA    IR1      Lvl        \n",
       "6 6  50         RL       85          14115   Pave   NA    IR1      Lvl        \n",
       "  Utilities ⋯ PoolQC Fence MiscFeature MiscVal MoSold YrSold SaleType\n",
       "1 AllPub    ⋯ NA     NA    NA            0      2     2008   WD      \n",
       "2 AllPub    ⋯ NA     NA    NA            0      5     2007   WD      \n",
       "3 AllPub    ⋯ NA     NA    NA            0      9     2008   WD      \n",
       "4 AllPub    ⋯ NA     NA    NA            0      2     2006   WD      \n",
       "5 AllPub    ⋯ NA     NA    NA            0     12     2008   WD      \n",
       "6 AllPub    ⋯ NA     MnPrv Shed        700     10     2009   WD      \n",
       "  SaleCondition SalePrice IsTrainset\n",
       "1 Normal        208500    TRUE      \n",
       "2 Normal        181500    TRUE      \n",
       "3 Normal        223500    TRUE      \n",
       "4 Abnorml       140000    TRUE      \n",
       "5 Normal        250000    TRUE      \n",
       "6 Normal        143000    TRUE      "
      ]
     },
     "metadata": {},
     "output_type": "display_data"
    }
   ],
   "source": [
    "head(combined_set)"
   ]
  },
  {
   "cell_type": "code",
   "execution_count": 53,
   "metadata": {},
   "outputs": [
    {
     "data": {
      "text/html": [
       "<ol class=list-inline>\n",
       "\t<li>'Id'</li>\n",
       "\t<li>'MSSubClass'</li>\n",
       "\t<li>'MSZoning'</li>\n",
       "\t<li>'LotFrontage'</li>\n",
       "\t<li>'LotArea'</li>\n",
       "\t<li>'Street'</li>\n",
       "\t<li>'Alley'</li>\n",
       "\t<li>'LotShape'</li>\n",
       "\t<li>'LandContour'</li>\n",
       "\t<li>'Utilities'</li>\n",
       "\t<li>'LotConfig'</li>\n",
       "\t<li>'LandSlope'</li>\n",
       "\t<li>'Neighborhood'</li>\n",
       "\t<li>'Condition1'</li>\n",
       "\t<li>'Condition2'</li>\n",
       "\t<li>'BldgType'</li>\n",
       "\t<li>'HouseStyle'</li>\n",
       "\t<li>'OverallQual'</li>\n",
       "\t<li>'OverallCond'</li>\n",
       "\t<li>'YearBuilt'</li>\n",
       "\t<li>'YearRemodAdd'</li>\n",
       "\t<li>'RoofStyle'</li>\n",
       "\t<li>'RoofMatl'</li>\n",
       "\t<li>'Exterior1st'</li>\n",
       "\t<li>'Exterior2nd'</li>\n",
       "\t<li>'MasVnrType'</li>\n",
       "\t<li>'MasVnrArea'</li>\n",
       "\t<li>'ExterQual'</li>\n",
       "\t<li>'ExterCond'</li>\n",
       "\t<li>'Foundation'</li>\n",
       "\t<li>'BsmtQual'</li>\n",
       "\t<li>'BsmtCond'</li>\n",
       "\t<li>'BsmtExposure'</li>\n",
       "\t<li>'BsmtFinType1'</li>\n",
       "\t<li>'BsmtFinSF1'</li>\n",
       "\t<li>'BsmtFinType2'</li>\n",
       "\t<li>'BsmtFinSF2'</li>\n",
       "\t<li>'BsmtUnfSF'</li>\n",
       "\t<li>'TotalBsmtSF'</li>\n",
       "\t<li>'Heating'</li>\n",
       "\t<li>'HeatingQC'</li>\n",
       "\t<li>'CentralAir'</li>\n",
       "\t<li>'Electrical'</li>\n",
       "\t<li>'X1stFlrSF'</li>\n",
       "\t<li>'X2ndFlrSF'</li>\n",
       "\t<li>'LowQualFinSF'</li>\n",
       "\t<li>'GrLivArea'</li>\n",
       "\t<li>'BsmtFullBath'</li>\n",
       "\t<li>'BsmtHalfBath'</li>\n",
       "\t<li>'FullBath'</li>\n",
       "\t<li>'HalfBath'</li>\n",
       "\t<li>'BedroomAbvGr'</li>\n",
       "\t<li>'KitchenAbvGr'</li>\n",
       "\t<li>'KitchenQual'</li>\n",
       "\t<li>'TotRmsAbvGrd'</li>\n",
       "\t<li>'Functional'</li>\n",
       "\t<li>'Fireplaces'</li>\n",
       "\t<li>'FireplaceQu'</li>\n",
       "\t<li>'GarageType'</li>\n",
       "\t<li>'GarageYrBlt'</li>\n",
       "\t<li>'GarageFinish'</li>\n",
       "\t<li>'GarageCars'</li>\n",
       "\t<li>'GarageArea'</li>\n",
       "\t<li>'GarageQual'</li>\n",
       "\t<li>'GarageCond'</li>\n",
       "\t<li>'PavedDrive'</li>\n",
       "\t<li>'WoodDeckSF'</li>\n",
       "\t<li>'OpenPorchSF'</li>\n",
       "\t<li>'EnclosedPorch'</li>\n",
       "\t<li>'X3SsnPorch'</li>\n",
       "\t<li>'ScreenPorch'</li>\n",
       "\t<li>'PoolArea'</li>\n",
       "\t<li>'PoolQC'</li>\n",
       "\t<li>'Fence'</li>\n",
       "\t<li>'MiscFeature'</li>\n",
       "\t<li>'MiscVal'</li>\n",
       "\t<li>'MoSold'</li>\n",
       "\t<li>'YrSold'</li>\n",
       "\t<li>'SaleType'</li>\n",
       "\t<li>'SaleCondition'</li>\n",
       "\t<li>'SalePrice'</li>\n",
       "\t<li>'IsTrainset'</li>\n",
       "</ol>\n"
      ],
      "text/latex": [
       "\\begin{enumerate*}\n",
       "\\item 'Id'\n",
       "\\item 'MSSubClass'\n",
       "\\item 'MSZoning'\n",
       "\\item 'LotFrontage'\n",
       "\\item 'LotArea'\n",
       "\\item 'Street'\n",
       "\\item 'Alley'\n",
       "\\item 'LotShape'\n",
       "\\item 'LandContour'\n",
       "\\item 'Utilities'\n",
       "\\item 'LotConfig'\n",
       "\\item 'LandSlope'\n",
       "\\item 'Neighborhood'\n",
       "\\item 'Condition1'\n",
       "\\item 'Condition2'\n",
       "\\item 'BldgType'\n",
       "\\item 'HouseStyle'\n",
       "\\item 'OverallQual'\n",
       "\\item 'OverallCond'\n",
       "\\item 'YearBuilt'\n",
       "\\item 'YearRemodAdd'\n",
       "\\item 'RoofStyle'\n",
       "\\item 'RoofMatl'\n",
       "\\item 'Exterior1st'\n",
       "\\item 'Exterior2nd'\n",
       "\\item 'MasVnrType'\n",
       "\\item 'MasVnrArea'\n",
       "\\item 'ExterQual'\n",
       "\\item 'ExterCond'\n",
       "\\item 'Foundation'\n",
       "\\item 'BsmtQual'\n",
       "\\item 'BsmtCond'\n",
       "\\item 'BsmtExposure'\n",
       "\\item 'BsmtFinType1'\n",
       "\\item 'BsmtFinSF1'\n",
       "\\item 'BsmtFinType2'\n",
       "\\item 'BsmtFinSF2'\n",
       "\\item 'BsmtUnfSF'\n",
       "\\item 'TotalBsmtSF'\n",
       "\\item 'Heating'\n",
       "\\item 'HeatingQC'\n",
       "\\item 'CentralAir'\n",
       "\\item 'Electrical'\n",
       "\\item 'X1stFlrSF'\n",
       "\\item 'X2ndFlrSF'\n",
       "\\item 'LowQualFinSF'\n",
       "\\item 'GrLivArea'\n",
       "\\item 'BsmtFullBath'\n",
       "\\item 'BsmtHalfBath'\n",
       "\\item 'FullBath'\n",
       "\\item 'HalfBath'\n",
       "\\item 'BedroomAbvGr'\n",
       "\\item 'KitchenAbvGr'\n",
       "\\item 'KitchenQual'\n",
       "\\item 'TotRmsAbvGrd'\n",
       "\\item 'Functional'\n",
       "\\item 'Fireplaces'\n",
       "\\item 'FireplaceQu'\n",
       "\\item 'GarageType'\n",
       "\\item 'GarageYrBlt'\n",
       "\\item 'GarageFinish'\n",
       "\\item 'GarageCars'\n",
       "\\item 'GarageArea'\n",
       "\\item 'GarageQual'\n",
       "\\item 'GarageCond'\n",
       "\\item 'PavedDrive'\n",
       "\\item 'WoodDeckSF'\n",
       "\\item 'OpenPorchSF'\n",
       "\\item 'EnclosedPorch'\n",
       "\\item 'X3SsnPorch'\n",
       "\\item 'ScreenPorch'\n",
       "\\item 'PoolArea'\n",
       "\\item 'PoolQC'\n",
       "\\item 'Fence'\n",
       "\\item 'MiscFeature'\n",
       "\\item 'MiscVal'\n",
       "\\item 'MoSold'\n",
       "\\item 'YrSold'\n",
       "\\item 'SaleType'\n",
       "\\item 'SaleCondition'\n",
       "\\item 'SalePrice'\n",
       "\\item 'IsTrainset'\n",
       "\\end{enumerate*}\n"
      ],
      "text/markdown": [
       "1. 'Id'\n",
       "2. 'MSSubClass'\n",
       "3. 'MSZoning'\n",
       "4. 'LotFrontage'\n",
       "5. 'LotArea'\n",
       "6. 'Street'\n",
       "7. 'Alley'\n",
       "8. 'LotShape'\n",
       "9. 'LandContour'\n",
       "10. 'Utilities'\n",
       "11. 'LotConfig'\n",
       "12. 'LandSlope'\n",
       "13. 'Neighborhood'\n",
       "14. 'Condition1'\n",
       "15. 'Condition2'\n",
       "16. 'BldgType'\n",
       "17. 'HouseStyle'\n",
       "18. 'OverallQual'\n",
       "19. 'OverallCond'\n",
       "20. 'YearBuilt'\n",
       "21. 'YearRemodAdd'\n",
       "22. 'RoofStyle'\n",
       "23. 'RoofMatl'\n",
       "24. 'Exterior1st'\n",
       "25. 'Exterior2nd'\n",
       "26. 'MasVnrType'\n",
       "27. 'MasVnrArea'\n",
       "28. 'ExterQual'\n",
       "29. 'ExterCond'\n",
       "30. 'Foundation'\n",
       "31. 'BsmtQual'\n",
       "32. 'BsmtCond'\n",
       "33. 'BsmtExposure'\n",
       "34. 'BsmtFinType1'\n",
       "35. 'BsmtFinSF1'\n",
       "36. 'BsmtFinType2'\n",
       "37. 'BsmtFinSF2'\n",
       "38. 'BsmtUnfSF'\n",
       "39. 'TotalBsmtSF'\n",
       "40. 'Heating'\n",
       "41. 'HeatingQC'\n",
       "42. 'CentralAir'\n",
       "43. 'Electrical'\n",
       "44. 'X1stFlrSF'\n",
       "45. 'X2ndFlrSF'\n",
       "46. 'LowQualFinSF'\n",
       "47. 'GrLivArea'\n",
       "48. 'BsmtFullBath'\n",
       "49. 'BsmtHalfBath'\n",
       "50. 'FullBath'\n",
       "51. 'HalfBath'\n",
       "52. 'BedroomAbvGr'\n",
       "53. 'KitchenAbvGr'\n",
       "54. 'KitchenQual'\n",
       "55. 'TotRmsAbvGrd'\n",
       "56. 'Functional'\n",
       "57. 'Fireplaces'\n",
       "58. 'FireplaceQu'\n",
       "59. 'GarageType'\n",
       "60. 'GarageYrBlt'\n",
       "61. 'GarageFinish'\n",
       "62. 'GarageCars'\n",
       "63. 'GarageArea'\n",
       "64. 'GarageQual'\n",
       "65. 'GarageCond'\n",
       "66. 'PavedDrive'\n",
       "67. 'WoodDeckSF'\n",
       "68. 'OpenPorchSF'\n",
       "69. 'EnclosedPorch'\n",
       "70. 'X3SsnPorch'\n",
       "71. 'ScreenPorch'\n",
       "72. 'PoolArea'\n",
       "73. 'PoolQC'\n",
       "74. 'Fence'\n",
       "75. 'MiscFeature'\n",
       "76. 'MiscVal'\n",
       "77. 'MoSold'\n",
       "78. 'YrSold'\n",
       "79. 'SaleType'\n",
       "80. 'SaleCondition'\n",
       "81. 'SalePrice'\n",
       "82. 'IsTrainset'\n",
       "\n",
       "\n"
      ],
      "text/plain": [
       " [1] \"Id\"            \"MSSubClass\"    \"MSZoning\"      \"LotFrontage\"  \n",
       " [5] \"LotArea\"       \"Street\"        \"Alley\"         \"LotShape\"     \n",
       " [9] \"LandContour\"   \"Utilities\"     \"LotConfig\"     \"LandSlope\"    \n",
       "[13] \"Neighborhood\"  \"Condition1\"    \"Condition2\"    \"BldgType\"     \n",
       "[17] \"HouseStyle\"    \"OverallQual\"   \"OverallCond\"   \"YearBuilt\"    \n",
       "[21] \"YearRemodAdd\"  \"RoofStyle\"     \"RoofMatl\"      \"Exterior1st\"  \n",
       "[25] \"Exterior2nd\"   \"MasVnrType\"    \"MasVnrArea\"    \"ExterQual\"    \n",
       "[29] \"ExterCond\"     \"Foundation\"    \"BsmtQual\"      \"BsmtCond\"     \n",
       "[33] \"BsmtExposure\"  \"BsmtFinType1\"  \"BsmtFinSF1\"    \"BsmtFinType2\" \n",
       "[37] \"BsmtFinSF2\"    \"BsmtUnfSF\"     \"TotalBsmtSF\"   \"Heating\"      \n",
       "[41] \"HeatingQC\"     \"CentralAir\"    \"Electrical\"    \"X1stFlrSF\"    \n",
       "[45] \"X2ndFlrSF\"     \"LowQualFinSF\"  \"GrLivArea\"     \"BsmtFullBath\" \n",
       "[49] \"BsmtHalfBath\"  \"FullBath\"      \"HalfBath\"      \"BedroomAbvGr\" \n",
       "[53] \"KitchenAbvGr\"  \"KitchenQual\"   \"TotRmsAbvGrd\"  \"Functional\"   \n",
       "[57] \"Fireplaces\"    \"FireplaceQu\"   \"GarageType\"    \"GarageYrBlt\"  \n",
       "[61] \"GarageFinish\"  \"GarageCars\"    \"GarageArea\"    \"GarageQual\"   \n",
       "[65] \"GarageCond\"    \"PavedDrive\"    \"WoodDeckSF\"    \"OpenPorchSF\"  \n",
       "[69] \"EnclosedPorch\" \"X3SsnPorch\"    \"ScreenPorch\"   \"PoolArea\"     \n",
       "[73] \"PoolQC\"        \"Fence\"         \"MiscFeature\"   \"MiscVal\"      \n",
       "[77] \"MoSold\"        \"YrSold\"        \"SaleType\"      \"SaleCondition\"\n",
       "[81] \"SalePrice\"     \"IsTrainset\"   "
      ]
     },
     "metadata": {},
     "output_type": "display_data"
    }
   ],
   "source": [
    "colnames(combined_set)"
   ]
  },
  {
   "cell_type": "code",
   "execution_count": 58,
   "metadata": {},
   "outputs": [
    {
     "data": {
      "text/plain": [
       "\n",
       "FALSE \n",
       " 2919 "
      ]
     },
     "metadata": {},
     "output_type": "display_data"
    },
    {
     "data": {
      "text/plain": [
       "\n",
       " Corner CulDSac     FR2     FR3  Inside \n",
       "    511     176      85      14    2133 "
      ]
     },
     "metadata": {},
     "output_type": "display_data"
    }
   ],
   "source": [
    "table(is.na(combined_set$LotConfig))\n",
    "table(combined_set$LotConfig)"
   ]
  },
  {
   "cell_type": "code",
   "execution_count": 59,
   "metadata": {},
   "outputs": [
    {
     "data": {
      "text/plain": [
       "\n",
       "FALSE \n",
       " 2919 "
      ]
     },
     "metadata": {},
     "output_type": "display_data"
    },
    {
     "data": {
      "text/plain": [
       "\n",
       " Gtl  Mod  Sev \n",
       "2778  125   16 "
      ]
     },
     "metadata": {},
     "output_type": "display_data"
    }
   ],
   "source": [
    "table(is.na(combined_set$LandSlope))\n",
    "table(combined_set$LandSlope)"
   ]
  },
  {
   "cell_type": "code",
   "execution_count": 60,
   "metadata": {},
   "outputs": [
    {
     "data": {
      "text/plain": [
       "\n",
       "FALSE \n",
       " 2919 "
      ]
     },
     "metadata": {},
     "output_type": "display_data"
    },
    {
     "data": {
      "text/plain": [
       "\n",
       "Blmngtn Blueste  BrDale BrkSide ClearCr CollgCr Crawfor Edwards Gilbert  IDOTRR \n",
       "     28      10      30     108      44     267     103     194     165      93 \n",
       "MeadowV Mitchel   NAmes NoRidge NPkVill NridgHt  NWAmes OldTown  Sawyer SawyerW \n",
       "     37     114     443      71      23     166     131     239     151     125 \n",
       "Somerst StoneBr   SWISU  Timber Veenker \n",
       "    182      51      48      72      24 "
      ]
     },
     "metadata": {},
     "output_type": "display_data"
    }
   ],
   "source": [
    "table(is.na(combined_set$Neighborhood))\n",
    "table(combined_set$Neighborhood)"
   ]
  },
  {
   "cell_type": "code",
   "execution_count": 64,
   "metadata": {},
   "outputs": [
    {
     "data": {
      "text/plain": [
       "\n",
       "FALSE \n",
       " 2919 "
      ]
     },
     "metadata": {},
     "output_type": "display_data"
    },
    {
     "data": {
      "text/plain": [
       "\n",
       "Artery  Feedr   Norm   PosA   PosN   RRAe   RRAn   RRNe   RRNn \n",
       "    92    164   2511     20     39     28     50      6      9 "
      ]
     },
     "metadata": {},
     "output_type": "display_data"
    }
   ],
   "source": [
    "table(is.na(combined_set$Condition1))\n",
    "table(combined_set$Condition1)\n",
    "\n",
    "##we take both"
   ]
  },
  {
   "cell_type": "code",
   "execution_count": 88,
   "metadata": {},
   "outputs": [],
   "source": [
    "#table(is.na(combined_set$BldgType))\n",
    "#table(combined_set$BldgType)\n",
    "#print('1')\n",
    "#table(is.na(combined_set$HouseStyle))\n",
    "#print('2')\n",
    "#table(is.na(combined_set$OverallQual))\n",
    "#print('3')\n",
    "#table(is.na(combined_set$OverallCond))\n",
    "#print('4')\n",
    "#table(is.na(combined_set$YearBuilt))\n",
    "#print('5')\n",
    "#table(is.na(combined_set$YearRemodAdd))\n",
    "#print('6')\n",
    "#table(is.na(combined_set$RoofStyle))\n",
    "#print('7')\n",
    "#table(is.na(combined_set$RoofMatl))\n",
    "#print('8')\n",
    "\n",
    "## we take al of it"
   ]
  },
  {
   "cell_type": "code",
   "execution_count": 73,
   "metadata": {},
   "outputs": [
    {
     "data": {
      "text/html": [],
      "text/latex": [],
      "text/markdown": [],
      "text/plain": [
       "integer(0)"
      ]
     },
     "metadata": {},
     "output_type": "display_data"
    },
    {
     "data": {
      "text/html": [],
      "text/latex": [],
      "text/markdown": [],
      "text/plain": [
       "integer(0)"
      ]
     },
     "metadata": {},
     "output_type": "display_data"
    },
    {
     "data": {
      "text/plain": [
       "\n",
       "AsbShng AsphShn BrkComm BrkFace  CBlock CemntBd HdBoard ImStucc MetalSd Plywood \n",
       "     44       2       6      87       2     126     442       1     450     221 \n",
       "  Stone  Stucco VinylSd Wd Sdng WdShing \n",
       "      2      43    1026     411      56 "
      ]
     },
     "metadata": {},
     "output_type": "display_data"
    }
   ],
   "source": [
    "\n",
    "which(is.na(combined_set$Exterior1st))\n",
    "which(is.na(combined_set$Exterior2nd))\n",
    "table(combined_set$Exterior1st)"
   ]
  },
  {
   "cell_type": "code",
   "execution_count": 74,
   "metadata": {},
   "outputs": [],
   "source": [
    "combined_set$Exterior1st[c(2152)] <- 'VinylSd'\n",
    "combined_set$Exterior2nd[c(2152)] <- 'VinylSd'"
   ]
  },
  {
   "cell_type": "code",
   "execution_count": 76,
   "metadata": {},
   "outputs": [
    {
     "data": {
      "text/html": [
       "<ol class=list-inline>\n",
       "\t<li>'Id'</li>\n",
       "\t<li>'MSSubClass'</li>\n",
       "\t<li>'MSZoning'</li>\n",
       "\t<li>'LotFrontage'</li>\n",
       "\t<li>'LotArea'</li>\n",
       "\t<li>'Street'</li>\n",
       "\t<li>'Alley'</li>\n",
       "\t<li>'LotShape'</li>\n",
       "\t<li>'LandContour'</li>\n",
       "\t<li>'Utilities'</li>\n",
       "\t<li>'LotConfig'</li>\n",
       "\t<li>'LandSlope'</li>\n",
       "\t<li>'Neighborhood'</li>\n",
       "\t<li>'Condition1'</li>\n",
       "\t<li>'Condition2'</li>\n",
       "\t<li>'BldgType'</li>\n",
       "\t<li>'HouseStyle'</li>\n",
       "\t<li>'OverallQual'</li>\n",
       "\t<li>'OverallCond'</li>\n",
       "\t<li>'YearBuilt'</li>\n",
       "\t<li>'YearRemodAdd'</li>\n",
       "\t<li>'RoofStyle'</li>\n",
       "\t<li>'RoofMatl'</li>\n",
       "\t<li>'Exterior1st'</li>\n",
       "\t<li>'Exterior2nd'</li>\n",
       "\t<li>'MasVnrType'</li>\n",
       "\t<li>'MasVnrArea'</li>\n",
       "\t<li>'ExterQual'</li>\n",
       "\t<li>'ExterCond'</li>\n",
       "\t<li>'Foundation'</li>\n",
       "\t<li>'BsmtQual'</li>\n",
       "\t<li>'BsmtCond'</li>\n",
       "\t<li>'BsmtExposure'</li>\n",
       "\t<li>'BsmtFinType1'</li>\n",
       "\t<li>'BsmtFinSF1'</li>\n",
       "\t<li>'BsmtFinType2'</li>\n",
       "\t<li>'BsmtFinSF2'</li>\n",
       "\t<li>'BsmtUnfSF'</li>\n",
       "\t<li>'TotalBsmtSF'</li>\n",
       "\t<li>'Heating'</li>\n",
       "\t<li>'HeatingQC'</li>\n",
       "\t<li>'CentralAir'</li>\n",
       "\t<li>'Electrical'</li>\n",
       "\t<li>'X1stFlrSF'</li>\n",
       "\t<li>'X2ndFlrSF'</li>\n",
       "\t<li>'LowQualFinSF'</li>\n",
       "\t<li>'GrLivArea'</li>\n",
       "\t<li>'BsmtFullBath'</li>\n",
       "\t<li>'BsmtHalfBath'</li>\n",
       "\t<li>'FullBath'</li>\n",
       "\t<li>'HalfBath'</li>\n",
       "\t<li>'BedroomAbvGr'</li>\n",
       "\t<li>'KitchenAbvGr'</li>\n",
       "\t<li>'KitchenQual'</li>\n",
       "\t<li>'TotRmsAbvGrd'</li>\n",
       "\t<li>'Functional'</li>\n",
       "\t<li>'Fireplaces'</li>\n",
       "\t<li>'FireplaceQu'</li>\n",
       "\t<li>'GarageType'</li>\n",
       "\t<li>'GarageYrBlt'</li>\n",
       "\t<li>'GarageFinish'</li>\n",
       "\t<li>'GarageCars'</li>\n",
       "\t<li>'GarageArea'</li>\n",
       "\t<li>'GarageQual'</li>\n",
       "\t<li>'GarageCond'</li>\n",
       "\t<li>'PavedDrive'</li>\n",
       "\t<li>'WoodDeckSF'</li>\n",
       "\t<li>'OpenPorchSF'</li>\n",
       "\t<li>'EnclosedPorch'</li>\n",
       "\t<li>'X3SsnPorch'</li>\n",
       "\t<li>'ScreenPorch'</li>\n",
       "\t<li>'PoolArea'</li>\n",
       "\t<li>'PoolQC'</li>\n",
       "\t<li>'Fence'</li>\n",
       "\t<li>'MiscFeature'</li>\n",
       "\t<li>'MiscVal'</li>\n",
       "\t<li>'MoSold'</li>\n",
       "\t<li>'YrSold'</li>\n",
       "\t<li>'SaleType'</li>\n",
       "\t<li>'SaleCondition'</li>\n",
       "\t<li>'SalePrice'</li>\n",
       "\t<li>'IsTrainset'</li>\n",
       "</ol>\n"
      ],
      "text/latex": [
       "\\begin{enumerate*}\n",
       "\\item 'Id'\n",
       "\\item 'MSSubClass'\n",
       "\\item 'MSZoning'\n",
       "\\item 'LotFrontage'\n",
       "\\item 'LotArea'\n",
       "\\item 'Street'\n",
       "\\item 'Alley'\n",
       "\\item 'LotShape'\n",
       "\\item 'LandContour'\n",
       "\\item 'Utilities'\n",
       "\\item 'LotConfig'\n",
       "\\item 'LandSlope'\n",
       "\\item 'Neighborhood'\n",
       "\\item 'Condition1'\n",
       "\\item 'Condition2'\n",
       "\\item 'BldgType'\n",
       "\\item 'HouseStyle'\n",
       "\\item 'OverallQual'\n",
       "\\item 'OverallCond'\n",
       "\\item 'YearBuilt'\n",
       "\\item 'YearRemodAdd'\n",
       "\\item 'RoofStyle'\n",
       "\\item 'RoofMatl'\n",
       "\\item 'Exterior1st'\n",
       "\\item 'Exterior2nd'\n",
       "\\item 'MasVnrType'\n",
       "\\item 'MasVnrArea'\n",
       "\\item 'ExterQual'\n",
       "\\item 'ExterCond'\n",
       "\\item 'Foundation'\n",
       "\\item 'BsmtQual'\n",
       "\\item 'BsmtCond'\n",
       "\\item 'BsmtExposure'\n",
       "\\item 'BsmtFinType1'\n",
       "\\item 'BsmtFinSF1'\n",
       "\\item 'BsmtFinType2'\n",
       "\\item 'BsmtFinSF2'\n",
       "\\item 'BsmtUnfSF'\n",
       "\\item 'TotalBsmtSF'\n",
       "\\item 'Heating'\n",
       "\\item 'HeatingQC'\n",
       "\\item 'CentralAir'\n",
       "\\item 'Electrical'\n",
       "\\item 'X1stFlrSF'\n",
       "\\item 'X2ndFlrSF'\n",
       "\\item 'LowQualFinSF'\n",
       "\\item 'GrLivArea'\n",
       "\\item 'BsmtFullBath'\n",
       "\\item 'BsmtHalfBath'\n",
       "\\item 'FullBath'\n",
       "\\item 'HalfBath'\n",
       "\\item 'BedroomAbvGr'\n",
       "\\item 'KitchenAbvGr'\n",
       "\\item 'KitchenQual'\n",
       "\\item 'TotRmsAbvGrd'\n",
       "\\item 'Functional'\n",
       "\\item 'Fireplaces'\n",
       "\\item 'FireplaceQu'\n",
       "\\item 'GarageType'\n",
       "\\item 'GarageYrBlt'\n",
       "\\item 'GarageFinish'\n",
       "\\item 'GarageCars'\n",
       "\\item 'GarageArea'\n",
       "\\item 'GarageQual'\n",
       "\\item 'GarageCond'\n",
       "\\item 'PavedDrive'\n",
       "\\item 'WoodDeckSF'\n",
       "\\item 'OpenPorchSF'\n",
       "\\item 'EnclosedPorch'\n",
       "\\item 'X3SsnPorch'\n",
       "\\item 'ScreenPorch'\n",
       "\\item 'PoolArea'\n",
       "\\item 'PoolQC'\n",
       "\\item 'Fence'\n",
       "\\item 'MiscFeature'\n",
       "\\item 'MiscVal'\n",
       "\\item 'MoSold'\n",
       "\\item 'YrSold'\n",
       "\\item 'SaleType'\n",
       "\\item 'SaleCondition'\n",
       "\\item 'SalePrice'\n",
       "\\item 'IsTrainset'\n",
       "\\end{enumerate*}\n"
      ],
      "text/markdown": [
       "1. 'Id'\n",
       "2. 'MSSubClass'\n",
       "3. 'MSZoning'\n",
       "4. 'LotFrontage'\n",
       "5. 'LotArea'\n",
       "6. 'Street'\n",
       "7. 'Alley'\n",
       "8. 'LotShape'\n",
       "9. 'LandContour'\n",
       "10. 'Utilities'\n",
       "11. 'LotConfig'\n",
       "12. 'LandSlope'\n",
       "13. 'Neighborhood'\n",
       "14. 'Condition1'\n",
       "15. 'Condition2'\n",
       "16. 'BldgType'\n",
       "17. 'HouseStyle'\n",
       "18. 'OverallQual'\n",
       "19. 'OverallCond'\n",
       "20. 'YearBuilt'\n",
       "21. 'YearRemodAdd'\n",
       "22. 'RoofStyle'\n",
       "23. 'RoofMatl'\n",
       "24. 'Exterior1st'\n",
       "25. 'Exterior2nd'\n",
       "26. 'MasVnrType'\n",
       "27. 'MasVnrArea'\n",
       "28. 'ExterQual'\n",
       "29. 'ExterCond'\n",
       "30. 'Foundation'\n",
       "31. 'BsmtQual'\n",
       "32. 'BsmtCond'\n",
       "33. 'BsmtExposure'\n",
       "34. 'BsmtFinType1'\n",
       "35. 'BsmtFinSF1'\n",
       "36. 'BsmtFinType2'\n",
       "37. 'BsmtFinSF2'\n",
       "38. 'BsmtUnfSF'\n",
       "39. 'TotalBsmtSF'\n",
       "40. 'Heating'\n",
       "41. 'HeatingQC'\n",
       "42. 'CentralAir'\n",
       "43. 'Electrical'\n",
       "44. 'X1stFlrSF'\n",
       "45. 'X2ndFlrSF'\n",
       "46. 'LowQualFinSF'\n",
       "47. 'GrLivArea'\n",
       "48. 'BsmtFullBath'\n",
       "49. 'BsmtHalfBath'\n",
       "50. 'FullBath'\n",
       "51. 'HalfBath'\n",
       "52. 'BedroomAbvGr'\n",
       "53. 'KitchenAbvGr'\n",
       "54. 'KitchenQual'\n",
       "55. 'TotRmsAbvGrd'\n",
       "56. 'Functional'\n",
       "57. 'Fireplaces'\n",
       "58. 'FireplaceQu'\n",
       "59. 'GarageType'\n",
       "60. 'GarageYrBlt'\n",
       "61. 'GarageFinish'\n",
       "62. 'GarageCars'\n",
       "63. 'GarageArea'\n",
       "64. 'GarageQual'\n",
       "65. 'GarageCond'\n",
       "66. 'PavedDrive'\n",
       "67. 'WoodDeckSF'\n",
       "68. 'OpenPorchSF'\n",
       "69. 'EnclosedPorch'\n",
       "70. 'X3SsnPorch'\n",
       "71. 'ScreenPorch'\n",
       "72. 'PoolArea'\n",
       "73. 'PoolQC'\n",
       "74. 'Fence'\n",
       "75. 'MiscFeature'\n",
       "76. 'MiscVal'\n",
       "77. 'MoSold'\n",
       "78. 'YrSold'\n",
       "79. 'SaleType'\n",
       "80. 'SaleCondition'\n",
       "81. 'SalePrice'\n",
       "82. 'IsTrainset'\n",
       "\n",
       "\n"
      ],
      "text/plain": [
       " [1] \"Id\"            \"MSSubClass\"    \"MSZoning\"      \"LotFrontage\"  \n",
       " [5] \"LotArea\"       \"Street\"        \"Alley\"         \"LotShape\"     \n",
       " [9] \"LandContour\"   \"Utilities\"     \"LotConfig\"     \"LandSlope\"    \n",
       "[13] \"Neighborhood\"  \"Condition1\"    \"Condition2\"    \"BldgType\"     \n",
       "[17] \"HouseStyle\"    \"OverallQual\"   \"OverallCond\"   \"YearBuilt\"    \n",
       "[21] \"YearRemodAdd\"  \"RoofStyle\"     \"RoofMatl\"      \"Exterior1st\"  \n",
       "[25] \"Exterior2nd\"   \"MasVnrType\"    \"MasVnrArea\"    \"ExterQual\"    \n",
       "[29] \"ExterCond\"     \"Foundation\"    \"BsmtQual\"      \"BsmtCond\"     \n",
       "[33] \"BsmtExposure\"  \"BsmtFinType1\"  \"BsmtFinSF1\"    \"BsmtFinType2\" \n",
       "[37] \"BsmtFinSF2\"    \"BsmtUnfSF\"     \"TotalBsmtSF\"   \"Heating\"      \n",
       "[41] \"HeatingQC\"     \"CentralAir\"    \"Electrical\"    \"X1stFlrSF\"    \n",
       "[45] \"X2ndFlrSF\"     \"LowQualFinSF\"  \"GrLivArea\"     \"BsmtFullBath\" \n",
       "[49] \"BsmtHalfBath\"  \"FullBath\"      \"HalfBath\"      \"BedroomAbvGr\" \n",
       "[53] \"KitchenAbvGr\"  \"KitchenQual\"   \"TotRmsAbvGrd\"  \"Functional\"   \n",
       "[57] \"Fireplaces\"    \"FireplaceQu\"   \"GarageType\"    \"GarageYrBlt\"  \n",
       "[61] \"GarageFinish\"  \"GarageCars\"    \"GarageArea\"    \"GarageQual\"   \n",
       "[65] \"GarageCond\"    \"PavedDrive\"    \"WoodDeckSF\"    \"OpenPorchSF\"  \n",
       "[69] \"EnclosedPorch\" \"X3SsnPorch\"    \"ScreenPorch\"   \"PoolArea\"     \n",
       "[73] \"PoolQC\"        \"Fence\"         \"MiscFeature\"   \"MiscVal\"      \n",
       "[77] \"MoSold\"        \"YrSold\"        \"SaleType\"      \"SaleCondition\"\n",
       "[81] \"SalePrice\"     \"IsTrainset\"   "
      ]
     },
     "metadata": {},
     "output_type": "display_data"
    }
   ],
   "source": [
    "colnames(combined_set)"
   ]
  },
  {
   "cell_type": "code",
   "execution_count": 97,
   "metadata": {},
   "outputs": [],
   "source": [
    "#print('0')\n",
    "#table(is.na(combined_set$Electrical))\n",
    "#table(combined_set$Electrical)\n",
    "#print('1')\n",
    "#table(is.na(combined_set$Heating))\n",
    "#print('2')\n",
    "#table(is.na(combined_set$GarageArea)) ## have to fix\n",
    "#table(combined_set$GarageArea)\n",
    "#print('3')\n",
    "#table(is.na(combined_set$GarageCars)) ## have to fix\n",
    "#table(combined_set$GarageCars)\n",
    "#print('4')\n",
    "#table(is.na(combined_set$PoolArea))\n",
    "#print('5')\n",
    "#table(is.na(combined_set$Fence))## we drop the column\n",
    "#print('6')\n",
    "#table(is.na(combined_set$SaleCondition))\n",
    "#print('7')\n",
    "#table(is.na(combined_set$SaleType)) ## have fix \n",
    "#print('8')\n",
    "#table(is.na(combined_set$YrSold))"
   ]
  },
  {
   "cell_type": "code",
   "execution_count": 82,
   "metadata": {},
   "outputs": [
    {
     "data": {
      "text/html": [
       "1380"
      ],
      "text/latex": [
       "1380"
      ],
      "text/markdown": [
       "1380"
      ],
      "text/plain": [
       "[1] 1380"
      ]
     },
     "metadata": {},
     "output_type": "display_data"
    },
    {
     "data": {
      "text/html": [],
      "text/latex": [],
      "text/markdown": [],
      "text/plain": [
       "integer(0)"
      ]
     },
     "metadata": {},
     "output_type": "display_data"
    },
    {
     "data": {
      "image/png": "[encoded data removed]",
      "text/plain": [
       "plot without title"
      ]
     },
     "metadata": {},
     "output_type": "display_data"
    }
   ],
   "source": [
    "which(is.na(combined_set$Electrical))\n",
    "barplot(table(combined_set$Electrical))\n",
    "combined_set$Electrical[c(1380)] <- 'SBrkr'\n",
    "which(is.na(combined_set$Electrical))"
   ]
  },
  {
   "cell_type": "code",
   "execution_count": 85,
   "metadata": {},
   "outputs": [
    {
     "data": {
      "text/html": [
       "2577"
      ],
      "text/latex": [
       "2577"
      ],
      "text/markdown": [
       "2577"
      ],
      "text/plain": [
       "[1] 2577"
      ]
     },
     "metadata": {},
     "output_type": "display_data"
    },
    {
     "data": {
      "text/html": [],
      "text/latex": [],
      "text/markdown": [],
      "text/plain": [
       "integer(0)"
      ]
     },
     "metadata": {},
     "output_type": "display_data"
    },
    {
     "data": {
      "image/png": "[encoded data removed]",
      "text/plain": [
       "plot without title"
      ]
     },
     "metadata": {},
     "output_type": "display_data"
    }
   ],
   "source": [
    "which(is.na(combined_set$GarageArea))\n",
    "barplot(table(combined_set$GarageArea))\n",
    "combined_set$GarageArea[c(2577)] <- 0\n",
    "which(is.na(combined_set$GarageArea))"
   ]
  },
  {
   "cell_type": "code",
   "execution_count": 87,
   "metadata": {},
   "outputs": [
    {
     "data": {
      "text/html": [
       "2577"
      ],
      "text/latex": [
       "2577"
      ],
      "text/markdown": [
       "2577"
      ],
      "text/plain": [
       "[1] 2577"
      ]
     },
     "metadata": {},
     "output_type": "display_data"
    },
    {
     "data": {
      "text/html": [],
      "text/latex": [],
      "text/markdown": [],
      "text/plain": [
       "integer(0)"
      ]
     },
     "metadata": {},
     "output_type": "display_data"
    },
    {
     "data": {
      "image/png": "[encoded data removed]",
      "text/plain": [
       "plot without title"
      ]
     },
     "metadata": {},
     "output_type": "display_data"
    }
   ],
   "source": [
    "which(is.na(combined_set$GarageCars))\n",
    "barplot(table(combined_set$GarageCars))\n",
    "combined_set$GarageCars[c(2577)] <- 2\n",
    "which(is.na(combined_set$GarageCars))"
   ]
  },
  {
   "cell_type": "code",
   "execution_count": 94,
   "metadata": {},
   "outputs": [],
   "source": [
    "data=combined_set[c('MSSubClass','MSZoning','LotArea','Street' ,'LotShape','LandContour','Utilities','LotConfig','LandSlope','Neighborhood','Condition1','Condition2','BldgType','HouseStyle','OverallQual','OverallCond','YearBuilt','YearRemodAdd','RoofStyle','RoofMatl','Exterior1st','Exterior2nd','SalePrice','IsTrainset','Electrical','Heating','GarageArea','GarageCars','PoolArea','SaleCondition','SaleType','YrSold')]"
   ]
  },
  {
   "cell_type": "code",
   "execution_count": 95,
   "metadata": {},
   "outputs": [
    {
     "data": {
      "text/html": [
       "<table>\n",
       "<thead><tr><th scope=col>MSSubClass</th><th scope=col>MSZoning</th><th scope=col>LotArea</th><th scope=col>Street</th><th scope=col>LotShape</th><th scope=col>LandContour</th><th scope=col>Utilities</th><th scope=col>LotConfig</th><th scope=col>LandSlope</th><th scope=col>Neighborhood</th><th scope=col>⋯</th><th scope=col>SalePrice</th><th scope=col>IsTrainset</th><th scope=col>Electrical</th><th scope=col>Heating</th><th scope=col>GarageArea</th><th scope=col>GarageCars</th><th scope=col>PoolArea</th><th scope=col>SaleCondition</th><th scope=col>SaleType</th><th scope=col>YrSold</th></tr></thead>\n",
       "<tbody>\n",
       "\t<tr><td>60     </td><td>RL     </td><td> 8450  </td><td>Pave   </td><td>Reg    </td><td>Lvl    </td><td>AllPub </td><td>Inside </td><td>Gtl    </td><td>CollgCr</td><td>⋯      </td><td>208500 </td><td>TRUE   </td><td>SBrkr  </td><td>GasA   </td><td>548    </td><td>2      </td><td>0      </td><td>Normal </td><td>WD     </td><td>2008   </td></tr>\n",
       "\t<tr><td>20     </td><td>RL     </td><td> 9600  </td><td>Pave   </td><td>Reg    </td><td>Lvl    </td><td>AllPub </td><td>FR2    </td><td>Gtl    </td><td>Veenker</td><td>⋯      </td><td>181500 </td><td>TRUE   </td><td>SBrkr  </td><td>GasA   </td><td>460    </td><td>2      </td><td>0      </td><td>Normal </td><td>WD     </td><td>2007   </td></tr>\n",
       "\t<tr><td>60     </td><td>RL     </td><td>11250  </td><td>Pave   </td><td>IR1    </td><td>Lvl    </td><td>AllPub </td><td>Inside </td><td>Gtl    </td><td>CollgCr</td><td>⋯      </td><td>223500 </td><td>TRUE   </td><td>SBrkr  </td><td>GasA   </td><td>608    </td><td>2      </td><td>0      </td><td>Normal </td><td>WD     </td><td>2008   </td></tr>\n",
       "\t<tr><td>70     </td><td>RL     </td><td> 9550  </td><td>Pave   </td><td>IR1    </td><td>Lvl    </td><td>AllPub </td><td>Corner </td><td>Gtl    </td><td>Crawfor</td><td>⋯      </td><td>140000 </td><td>TRUE   </td><td>SBrkr  </td><td>GasA   </td><td>642    </td><td>3      </td><td>0      </td><td>Abnorml</td><td>WD     </td><td>2006   </td></tr>\n",
       "\t<tr><td>60     </td><td>RL     </td><td>14260  </td><td>Pave   </td><td>IR1    </td><td>Lvl    </td><td>AllPub </td><td>FR2    </td><td>Gtl    </td><td>NoRidge</td><td>⋯      </td><td>250000 </td><td>TRUE   </td><td>SBrkr  </td><td>GasA   </td><td>836    </td><td>3      </td><td>0      </td><td>Normal </td><td>WD     </td><td>2008   </td></tr>\n",
       "\t<tr><td>50     </td><td>RL     </td><td>14115  </td><td>Pave   </td><td>IR1    </td><td>Lvl    </td><td>AllPub </td><td>Inside </td><td>Gtl    </td><td>Mitchel</td><td>⋯      </td><td>143000 </td><td>TRUE   </td><td>SBrkr  </td><td>GasA   </td><td>480    </td><td>2      </td><td>0      </td><td>Normal </td><td>WD     </td><td>2009   </td></tr>\n",
       "</tbody>\n",
       "</table>\n"
      ],
      "text/latex": [
       "\\begin{tabular}{r|llllllllllllllllllllllllllllllll}\n",
       " MSSubClass & MSZoning & LotArea & Street & LotShape & LandContour & Utilities & LotConfig & LandSlope & Neighborhood & ⋯ & SalePrice & IsTrainset & Electrical & Heating & GarageArea & GarageCars & PoolArea & SaleCondition & SaleType & YrSold\\\\\n",
       "\\hline\n",
       "\t 60      & RL      &  8450   & Pave    & Reg     & Lvl     & AllPub  & Inside  & Gtl     & CollgCr & ⋯       & 208500  & TRUE    & SBrkr   & GasA    & 548     & 2       & 0       & Normal  & WD      & 2008   \\\\\n",
       "\t 20      & RL      &  9600   & Pave    & Reg     & Lvl     & AllPub  & FR2     & Gtl     & Veenker & ⋯       & 181500  & TRUE    & SBrkr   & GasA    & 460     & 2       & 0       & Normal  & WD      & 2007   \\\\\n",
       "\t 60      & RL      & 11250   & Pave    & IR1     & Lvl     & AllPub  & Inside  & Gtl     & CollgCr & ⋯       & 223500  & TRUE    & SBrkr   & GasA    & 608     & 2       & 0       & Normal  & WD      & 2008   \\\\\n",
       "\t 70      & RL      &  9550   & Pave    & IR1     & Lvl     & AllPub  & Corner  & Gtl     & Crawfor & ⋯       & 140000  & TRUE    & SBrkr   & GasA    & 642     & 3       & 0       & Abnorml & WD      & 2006   \\\\\n",
       "\t 60      & RL      & 14260   & Pave    & IR1     & Lvl     & AllPub  & FR2     & Gtl     & NoRidge & ⋯       & 250000  & TRUE    & SBrkr   & GasA    & 836     & 3       & 0       & Normal  & WD      & 2008   \\\\\n",
       "\t 50      & RL      & 14115   & Pave    & IR1     & Lvl     & AllPub  & Inside  & Gtl     & Mitchel & ⋯       & 143000  & TRUE    & SBrkr   & GasA    & 480     & 2       & 0       & Normal  & WD      & 2009   \\\\\n",
       "\\end{tabular}\n"
      ],
      "text/markdown": [
       "\n",
       "MSSubClass | MSZoning | LotArea | Street | LotShape | LandContour | Utilities | LotConfig | LandSlope | Neighborhood | ⋯ | SalePrice | IsTrainset | Electrical | Heating | GarageArea | GarageCars | PoolArea | SaleCondition | SaleType | YrSold | \n",
       "|---|---|---|---|---|---|\n",
       "| 60      | RL      |  8450   | Pave    | Reg     | Lvl     | AllPub  | Inside  | Gtl     | CollgCr | ⋯       | 208500  | TRUE    | SBrkr   | GasA    | 548     | 2       | 0       | Normal  | WD      | 2008    | \n",
       "| 20      | RL      |  9600   | Pave    | Reg     | Lvl     | AllPub  | FR2     | Gtl     | Veenker | ⋯       | 181500  | TRUE    | SBrkr   | GasA    | 460     | 2       | 0       | Normal  | WD      | 2007    | \n",
       "| 60      | RL      | 11250   | Pave    | IR1     | Lvl     | AllPub  | Inside  | Gtl     | CollgCr | ⋯       | 223500  | TRUE    | SBrkr   | GasA    | 608     | 2       | 0       | Normal  | WD      | 2008    | \n",
       "| 70      | RL      |  9550   | Pave    | IR1     | Lvl     | AllPub  | Corner  | Gtl     | Crawfor | ⋯       | 140000  | TRUE    | SBrkr   | GasA    | 642     | 3       | 0       | Abnorml | WD      | 2006    | \n",
       "| 60      | RL      | 14260   | Pave    | IR1     | Lvl     | AllPub  | FR2     | Gtl     | NoRidge | ⋯       | 250000  | TRUE    | SBrkr   | GasA    | 836     | 3       | 0       | Normal  | WD      | 2008    | \n",
       "| 50      | RL      | 14115   | Pave    | IR1     | Lvl     | AllPub  | Inside  | Gtl     | Mitchel | ⋯       | 143000  | TRUE    | SBrkr   | GasA    | 480     | 2       | 0       | Normal  | WD      | 2009    | \n",
       "\n",
       "\n"
      ],
      "text/plain": [
       "  MSSubClass MSZoning LotArea Street LotShape LandContour Utilities LotConfig\n",
       "1 60         RL        8450   Pave   Reg      Lvl         AllPub    Inside   \n",
       "2 20         RL        9600   Pave   Reg      Lvl         AllPub    FR2      \n",
       "3 60         RL       11250   Pave   IR1      Lvl         AllPub    Inside   \n",
       "4 70         RL        9550   Pave   IR1      Lvl         AllPub    Corner   \n",
       "5 60         RL       14260   Pave   IR1      Lvl         AllPub    FR2      \n",
       "6 50         RL       14115   Pave   IR1      Lvl         AllPub    Inside   \n",
       "  LandSlope Neighborhood ⋯ SalePrice IsTrainset Electrical Heating GarageArea\n",
       "1 Gtl       CollgCr      ⋯ 208500    TRUE       SBrkr      GasA    548       \n",
       "2 Gtl       Veenker      ⋯ 181500    TRUE       SBrkr      GasA    460       \n",
       "3 Gtl       CollgCr      ⋯ 223500    TRUE       SBrkr      GasA    608       \n",
       "4 Gtl       Crawfor      ⋯ 140000    TRUE       SBrkr      GasA    642       \n",
       "5 Gtl       NoRidge      ⋯ 250000    TRUE       SBrkr      GasA    836       \n",
       "6 Gtl       Mitchel      ⋯ 143000    TRUE       SBrkr      GasA    480       \n",
       "  GarageCars PoolArea SaleCondition SaleType YrSold\n",
       "1 2          0        Normal        WD       2008  \n",
       "2 2          0        Normal        WD       2007  \n",
       "3 2          0        Normal        WD       2008  \n",
       "4 3          0        Abnorml       WD       2006  \n",
       "5 3          0        Normal        WD       2008  \n",
       "6 2          0        Normal        WD       2009  "
      ]
     },
     "metadata": {},
     "output_type": "display_data"
    }
   ],
   "source": [
    "head(data)"
   ]
  },
  {
   "cell_type": "code",
   "execution_count": 92,
   "metadata": {},
   "outputs": [],
   "source": [
    "#data = as.factor(data)"
   ]
  },
  {
   "cell_type": "code",
   "execution_count": 96,
   "metadata": {},
   "outputs": [],
   "source": [
    "## split the train and test data\n",
    "post_train <-data[data$IsTrainset==TRUE,]\n",
    "post_test <-data[data$IsTrainset==FALSE,]\n"
   ]
  },
  {
   "cell_type": "code",
   "execution_count": 98,
   "metadata": {},
   "outputs": [
    {
     "name": "stderr",
     "output_type": "stream",
     "text": [
      "Loading required package: lattice\n",
      "\n",
      "Attaching package: ‘mice’\n",
      "\n",
      "The following objects are masked from ‘package:base’:\n",
      "\n",
      "    cbind, rbind\n",
      "\n",
      "randomForest 4.6-14\n",
      "Type rfNews() to see new features/changes/bug fixes.\n"
     ]
    }
   ],
   "source": [
    "library('mice')\n",
    "library('lattice')\n",
    "library('randomForest')"
   ]
  },
  {
   "cell_type": "code",
   "execution_count": 99,
   "metadata": {},
   "outputs": [],
   "source": [
    "fit1<-randomForest(SalePrice~ .,data = post_train)"
   ]
  },
  {
   "cell_type": "code",
   "execution_count": 101,
   "metadata": {},
   "outputs": [
    {
     "data": {
      "text/plain": [
       "\n",
       "Call:\n",
       " randomForest(formula = SalePrice ~ ., data = post_train) \n",
       "               Type of random forest: regression\n",
       "                     Number of trees: 500\n",
       "No. of variables tried at each split: 10\n",
       "\n",
       "          Mean of squared residuals: 1123561955\n",
       "                    % Var explained: 82.18"
      ]
     },
     "metadata": {},
     "output_type": "display_data"
    }
   ],
   "source": [
    "fit1\n",
    "post_after_test=post_test[c('MSSubClass','MSZoning','LotArea','Street' ,'LotShape','LandContour','Utilities','LotConfig','LandSlope','Neighborhood','Condition1','Condition2','BldgType','HouseStyle','OverallQual','OverallCond','YearBuilt','YearRemodAdd','RoofStyle','RoofMatl','Exterior1st','Exterior2nd','IsTrainset','Electrical','Heating','GarageArea','GarageCars','PoolArea','SaleCondition','SaleType','YrSold')]"
   ]
  },
  {
   "cell_type": "code",
   "execution_count": 102,
   "metadata": {},
   "outputs": [],
   "source": [
    "final_predict<-predict(fit1,post_after_test)"
   ]
  },
  {
   "cell_type": "code",
   "execution_count": null,
   "metadata": {},
   "outputs": [],
   "source": []
  },
  {
   "cell_type": "code",
   "execution_count": 104,
   "metadata": {},
   "outputs": [],
   "source": [
    "prediction_data_frame1=data.frame(Id=test$Id,SalePrice=final_predict)\n",
    "write.csv(prediction_data_frame1,file = \"FINAL.csv\" ,row.names=FALSE)"
   ]
  },
  {
   "cell_type": "code",
   "execution_count": null,
   "metadata": {},
   "outputs": [],
   "source": []
  }
 ],
 "metadata": {
  "kernelspec": {
   "display_name": "R",
   "language": "R",
   "name": "ir"
  },
  "language_info": {
   "codemirror_mode": "r",
   "file_extension": ".r",
   "mimetype": "text/x-r-source",
   "name": "R",
   "pygments_lexer": "r",
   "version": "3.5.1"
  }
 },
 "nbformat": 4,
 "nbformat_minor": 2
}
